{
 "cells": [
  {
   "cell_type": "code",
   "execution_count": 1,
   "id": "9e52776a-0dd7-41b3-a8b9-7f6f91562974",
   "metadata": {},
   "outputs": [],
   "source": [
    "# The following code snippet will be run on all TPU hosts\n",
    "import jax"
   ]
  },
  {
   "cell_type": "code",
   "execution_count": 2,
   "id": "cdf9b38d-7041-449f-87dd-1804df863d17",
   "metadata": {},
   "outputs": [
    {
     "name": "stdout",
     "output_type": "stream",
     "text": [
      "global device count: 8\n"
     ]
    }
   ],
   "source": [
    "# The total number of TPU cores in the Pod\n",
    "device_count = jax.device_count()\n",
    "print('global device count:', device_count)"
   ]
  },
  {
   "cell_type": "code",
   "execution_count": 3,
   "id": "e394caf7-f48d-4f9f-a9c6-d750831e8d15",
   "metadata": {},
   "outputs": [
    {
     "name": "stdout",
     "output_type": "stream",
     "text": [
      "local device count: 8\n"
     ]
    }
   ],
   "source": [
    "# The number of TPU cores attached to this host\n",
    "local_device_count = jax.local_device_count()\n",
    "print('local device count:', local_device_count)"
   ]
  },
  {
   "cell_type": "code",
   "execution_count": 4,
   "id": "63a42cc6-cf48-44a4-9301-55f2bdfdead6",
   "metadata": {},
   "outputs": [
    {
     "name": "stdout",
     "output_type": "stream",
     "text": [
      "pmap result: [8. 8. 8. 8. 8. 8. 8. 8.]\n"
     ]
    }
   ],
   "source": [
    "# The psum is performed over all mapped devices across the Pod\n",
    "xs = jax.numpy.ones(jax.local_device_count())\n",
    "r = jax.pmap(lambda x: jax.lax.psum(x, 'i'), axis_name='i')(xs)\n",
    "print('pmap result:', r)"
   ]
  }
 ],
 "metadata": {
  "kernelspec": {
   "display_name": "Python 3 (ipykernel)",
   "language": "python",
   "name": "python3"
  },
  "language_info": {
   "codemirror_mode": {
    "name": "ipython",
    "version": 3
   },
   "file_extension": ".py",
   "mimetype": "text/x-python",
   "name": "python",
   "nbconvert_exporter": "python",
   "pygments_lexer": "ipython3",
   "version": "3.10.6"
  }
 },
 "nbformat": 4,
 "nbformat_minor": 5
}
