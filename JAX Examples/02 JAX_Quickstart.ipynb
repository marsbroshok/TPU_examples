{
 "cells": [
  {
   "cell_type": "markdown",
   "metadata": {
    "id": "xtWX4x9DCF5_"
   },
   "source": [
    "# JAX Quickstart\n",
    "\n",
    "[![Open in Colab](https://colab.research.google.com/assets/colab-badge.svg)](https://colab.research.google.com/github/google/jax/blob/main/docs/notebooks/quickstart.ipynb) [![Open in Kaggle](https://kaggle.com/static/images/open-in-kaggle.svg)](https://kaggle.com/kernels/welcome?src=https://github.com/google/jax/blob/main/docs/notebooks/quickstart.ipynb)\n",
    "\n",
    "**JAX is NumPy on the CPU, GPU, and TPU, with great automatic differentiation for high-performance machine learning research.**\n",
    "\n",
    "With its updated version of [Autograd](https://github.com/hips/autograd), JAX\n",
    "can automatically differentiate native Python and NumPy code. It can\n",
    "differentiate through a large subset of Python’s features, including loops, ifs,\n",
    "recursion, and closures, and it can even take derivatives of derivatives of\n",
    "derivatives. It supports reverse-mode as well as forward-mode differentiation, and the two can be composed arbitrarily\n",
    "to any order.\n",
    "\n",
    "What’s new is that JAX uses\n",
    "[XLA](https://www.tensorflow.org/xla)\n",
    "to compile and run your NumPy code on accelerators, like GPUs and TPUs.\n",
    "Compilation happens under the hood by default, with library calls getting\n",
    "just-in-time compiled and executed. But JAX even lets you just-in-time compile\n",
    "your own Python functions into XLA-optimized kernels using a one-function API.\n",
    "Compilation and automatic differentiation can be composed arbitrarily, so you\n",
    "can express sophisticated algorithms and get maximal performance without having\n",
    "to leave Python."
   ]
  },
  {
   "cell_type": "code",
   "execution_count": 1,
   "metadata": {
    "executionInfo": {
     "elapsed": 3,
     "status": "ok",
     "timestamp": 1706106988790,
     "user": {
      "displayName": "",
      "userId": ""
     },
     "user_tz": -60
    },
    "id": "SY8mDvEvCGqk"
   },
   "outputs": [],
   "source": [
    "import jax\n",
    "import jax.numpy as jnp\n",
    "from jax import grad, jit, vmap, pmap\n",
    "from jax import random"
   ]
  },
  {
   "cell_type": "markdown",
   "metadata": {
    "id": "FQ89jHCYfhpg"
   },
   "source": [
    "## Multiplying Matrices"
   ]
  },
  {
   "cell_type": "markdown",
   "metadata": {
    "id": "Xpy1dSgNqCP4"
   },
   "source": [
    "We'll be generating random data in the following examples. One big difference between NumPy and JAX is how you generate random numbers. For more details, see [Common Gotchas in JAX].\n",
    "\n",
    "[Common Gotchas in JAX]: https://jax.readthedocs.io/en/latest/notebooks/Common_Gotchas_in_JAX.html#%F0%9F%94%AA-Random-Numbers"
   ]
  },
  {
   "cell_type": "code",
   "execution_count": 2,
   "metadata": {
    "colab": {
     "base_uri": "https://localhost:8080/"
    },
    "executionInfo": {
     "elapsed": 17419,
     "status": "ok",
     "timestamp": 1706106451925,
     "user": {
      "displayName": "",
      "userId": ""
     },
     "user_tz": -60
    },
    "id": "u0nseKZNqOoH",
    "outputId": "b8792baa-2505-470a-a6a7-853e3f776583"
   },
   "outputs": [
    {
     "name": "stdout",
     "output_type": "stream",
     "text": [
      "[-0.3721097   0.2642309  -0.18252775 -0.7368085  -0.44030353 -0.15214416\n",
      " -0.6713451  -0.590867    0.7316775   0.567302  ]\n"
     ]
    }
   ],
   "source": [
    "key = random.PRNGKey(0)\n",
    "x = random.normal(key, (10,))\n",
    "print(x)"
   ]
  },
  {
   "cell_type": "markdown",
   "metadata": {
    "id": "hDJF0UPKnuqB"
   },
   "source": [
    "Let's dive right in and multiply two big matrices."
   ]
  },
  {
   "cell_type": "code",
   "execution_count": 3,
   "metadata": {
    "colab": {
     "base_uri": "https://localhost:8080/"
    },
    "executionInfo": {
     "elapsed": 1845,
     "status": "ok",
     "timestamp": 1706106458932,
     "user": {
      "displayName": "",
      "userId": ""
     },
     "user_tz": -60
    },
    "id": "eXn8GUl6CG5N",
    "outputId": "5f8efda3-b22f-4920-ead7-199cb7c8020e"
   },
   "outputs": [
    {
     "name": "stdout",
     "output_type": "stream",
     "text": [
      "1.59 ms ± 56.7 µs per loop (mean ± std. dev. of 7 runs, 1 loop each)\n"
     ]
    }
   ],
   "source": [
    "size = 3000\n",
    "x = random.normal(key, (size, size), dtype=jnp.float32)\n",
    "%timeit jnp.dot(x, x.T).block_until_ready()  # runs on the GPU"
   ]
  },
  {
   "cell_type": "markdown",
   "metadata": {
    "id": "0AlN7EbonyaR"
   },
   "source": [
    "We added that `block_until_ready` because JAX uses asynchronous execution by default (see {ref}`async-dispatch`).\n",
    "\n",
    "JAX NumPy functions work on regular NumPy arrays."
   ]
  },
  {
   "cell_type": "code",
   "execution_count": 4,
   "metadata": {
    "colab": {
     "base_uri": "https://localhost:8080/"
    },
    "executionInfo": {
     "elapsed": 3057,
     "status": "ok",
     "timestamp": 1706106465513,
     "user": {
      "displayName": "",
      "userId": ""
     },
     "user_tz": -60
    },
    "id": "ZPl0MuwYrM7t",
    "outputId": "0c91de6f-ab50-4adb-de89-016ca534242c"
   },
   "outputs": [
    {
     "name": "stdout",
     "output_type": "stream",
     "text": [
      "17.7 ms ± 124 µs per loop (mean ± std. dev. of 7 runs, 100 loops each)\n"
     ]
    }
   ],
   "source": [
    "import numpy as np\n",
    "x = np.random.normal(size=(size, size)).astype(np.float32)\n",
    "%timeit jnp.dot(x, x.T).block_until_ready()"
   ]
  },
  {
   "cell_type": "markdown",
   "metadata": {
    "id": "_SrcB2IurUuE"
   },
   "source": [
    "That's slower because it has to transfer data to the GPU every time. You can ensure that an NDArray is backed by device memory using {func}`~jax.device_put`."
   ]
  },
  {
   "cell_type": "code",
   "execution_count": 5,
   "metadata": {
    "colab": {
     "base_uri": "https://localhost:8080/"
    },
    "executionInfo": {
     "elapsed": 1873,
     "status": "ok",
     "timestamp": 1706106482206,
     "user": {
      "displayName": "",
      "userId": ""
     },
     "user_tz": -60
    },
    "id": "Jj7M7zyRskF0",
    "outputId": "966ff7e9-b6aa-4989-d255-54b53aa31819"
   },
   "outputs": [
    {
     "name": "stdout",
     "output_type": "stream",
     "text": [
      "1.56 ms ± 2.73 µs per loop (mean ± std. dev. of 7 runs, 1,000 loops each)\n"
     ]
    }
   ],
   "source": [
    "from jax import device_put\n",
    "\n",
    "x = np.random.normal(size=(size, size)).astype(np.float32)\n",
    "x = device_put(x)\n",
    "%timeit jnp.dot(x, x.T).block_until_ready()"
   ]
  },
  {
   "cell_type": "markdown",
   "metadata": {
    "id": "clO9djnen8qi"
   },
   "source": [
    "The output of {func}`~jax.device_put` still acts like an NDArray, but it only copies values back to the CPU when they're needed for printing, plotting, saving to disk, branching, etc. The behavior of {func}`~jax.device_put` is equivalent to the function `jit(lambda x: x)`, but it's faster."
   ]
  },
  {
   "cell_type": "markdown",
   "metadata": {
    "id": "ghkfKNQttDpg"
   },
   "source": [
    "If you have a GPU (or TPU!) these calls run on the accelerator and have the potential to be much faster than on CPU.\n",
    "See {ref}`faq-jax-vs-numpy` for more comparison of performance characteristics of NumPy and JAX"
   ]
  },
  {
   "cell_type": "markdown",
   "metadata": {
    "id": "iOzp0P_GoJhb"
   },
   "source": [
    "JAX is much more than just a GPU-backed NumPy. It also comes with a few program transformations that are useful when writing numerical code. For now, there are three main ones:\n",
    "\n",
    " - {func}`~jax.jit`, for speeding up your code\n",
    " - {func}`~jax.grad`, for taking derivatives\n",
    " - {func}`~jax.vmap`, for automatic vectorization or batching.\n",
    "\n",
    "Let's go over these, one-by-one. We'll also end up composing these in interesting ways."
   ]
  },
  {
   "cell_type": "markdown",
   "metadata": {
    "id": "bTTrTbWvgLUK"
   },
   "source": [
    "## Using {func}`~jax.jit` to speed up functions"
   ]
  },
  {
   "cell_type": "markdown",
   "metadata": {
    "id": "YrqE32mvE3b7"
   },
   "source": [
    "JAX runs transparently on the GPU or TPU (falling back to CPU if you don't have one). However, in the above example, JAX is dispatching kernels to the GPU one operation at a time. If we have a sequence of operations, we can use the `@jit` decorator to compile multiple operations together using [XLA](https://www.tensorflow.org/xla). Let's try that."
   ]
  },
  {
   "cell_type": "code",
   "execution_count": 6,
   "metadata": {
    "colab": {
     "base_uri": "https://localhost:8080/"
    },
    "executionInfo": {
     "elapsed": 849,
     "status": "ok",
     "timestamp": 1706106502319,
     "user": {
      "displayName": "",
      "userId": ""
     },
     "user_tz": -60
    },
    "id": "qLGdCtFKFLOR",
    "outputId": "89efd38b-2261-4943-facd-d80afbfe2aba"
   },
   "outputs": [
    {
     "name": "stdout",
     "output_type": "stream",
     "text": [
      "550 µs ± 23.2 µs per loop (mean ± std. dev. of 7 runs, 1 loop each)\n"
     ]
    }
   ],
   "source": [
    "def selu(x, alpha=1.67, lmbda=1.05):\n",
    "  return lmbda * jnp.where(x > 0, x, alpha * jnp.exp(x) - alpha)\n",
    "\n",
    "x = random.normal(key, (1000000,))\n",
    "%timeit selu(x).block_until_ready()"
   ]
  },
  {
   "cell_type": "markdown",
   "metadata": {
    "id": "a_V8SruVHrD_"
   },
   "source": [
    "We can speed it up with `@jit`, which will jit-compile the first time `selu` is called and will be cached thereafter."
   ]
  },
  {
   "cell_type": "code",
   "execution_count": 7,
   "metadata": {
    "colab": {
     "base_uri": "https://localhost:8080/"
    },
    "executionInfo": {
     "elapsed": 9001,
     "status": "ok",
     "timestamp": 1706106567044,
     "user": {
      "displayName": "",
      "userId": ""
     },
     "user_tz": -60
    },
    "id": "fh4w_3NpFYTp",
    "outputId": "e4f96127-6327-4097-cee9-66033fa6bdf2"
   },
   "outputs": [
    {
     "name": "stdout",
     "output_type": "stream",
     "text": [
      "179 µs ± 118 ns per loop (mean ± std. dev. of 7 runs, 10,000 loops each)\n"
     ]
    }
   ],
   "source": [
    "selu_jit = jit(selu)\n",
    "%timeit selu_jit(x).block_until_ready()"
   ]
  },
  {
   "cell_type": "markdown",
   "metadata": {
    "id": "HxpBc4WmfsEU"
   },
   "source": [
    "## Taking derivatives with {func}`~jax.grad`\n",
    "\n",
    "In addition to evaluating numerical functions, we also want to transform them. One transformation is [automatic differentiation](https://en.wikipedia.org/wiki/Automatic_differentiation). In JAX, just like in [Autograd](https://github.com/HIPS/autograd), you can compute gradients with the {func}`~jax.grad` function."
   ]
  },
  {
   "cell_type": "code",
   "execution_count": 8,
   "metadata": {
    "colab": {
     "base_uri": "https://localhost:8080/"
    },
    "executionInfo": {
     "elapsed": 1441,
     "status": "ok",
     "timestamp": 1706106606942,
     "user": {
      "displayName": "",
      "userId": ""
     },
     "user_tz": -60
    },
    "id": "IMAgNJaMJwPD",
    "outputId": "f7a59f38-5a9e-42d9-df6c-b6e202358e91"
   },
   "outputs": [
    {
     "name": "stdout",
     "output_type": "stream",
     "text": [
      "[0.25       0.1966118  0.10499343]\n"
     ]
    }
   ],
   "source": [
    "def sum_logistic(x):\n",
    "  return jnp.sum(1.0 / (1.0 + jnp.exp(-x)))\n",
    "\n",
    "x_small = jnp.arange(3.)\n",
    "derivative_fn = grad(sum_logistic)\n",
    "print(derivative_fn(x_small))"
   ]
  },
  {
   "cell_type": "markdown",
   "metadata": {
    "id": "PtNs881Ohioc"
   },
   "source": [
    "Let's verify with finite differences that our result is correct."
   ]
  },
  {
   "cell_type": "code",
   "execution_count": 9,
   "metadata": {
    "colab": {
     "base_uri": "https://localhost:8080/"
    },
    "executionInfo": {
     "elapsed": 1299,
     "status": "ok",
     "timestamp": 1706106633778,
     "user": {
      "displayName": "",
      "userId": ""
     },
     "user_tz": -60
    },
    "id": "JXI7_OZuKZVO",
    "outputId": "05f873ea-06a5-4d36-aff9-21bf486275c4"
   },
   "outputs": [
    {
     "name": "stdout",
     "output_type": "stream",
     "text": [
      "[0.24974345 0.1965761  0.10490417]\n"
     ]
    }
   ],
   "source": [
    "def first_finite_differences(f, x):\n",
    "  eps = 1e-3\n",
    "  return jnp.array([(f(x + eps * v) - f(x - eps * v)) / (2 * eps)\n",
    "                   for v in jnp.eye(len(x))])\n",
    "\n",
    "\n",
    "print(first_finite_differences(sum_logistic, x_small))"
   ]
  },
  {
   "cell_type": "markdown",
   "metadata": {
    "id": "Q2CUZjOWNZ-3"
   },
   "source": [
    "Taking derivatives is as easy as calling {func}`~jax.grad`. {func}`~jax.grad` and {func}`~jax.jit` compose and can be mixed arbitrarily. In the above example we jitted `sum_logistic` and then took its derivative. We can go further:"
   ]
  },
  {
   "cell_type": "code",
   "execution_count": 11,
   "metadata": {
    "colab": {
     "base_uri": "https://localhost:8080/"
    },
    "executionInfo": {
     "elapsed": 433,
     "status": "ok",
     "timestamp": 1706106657922,
     "user": {
      "displayName": "",
      "userId": ""
     },
     "user_tz": -60
    },
    "id": "TO4g8ny-OEi4",
    "outputId": "5e3b0e35-91e2-4d18-aa96-f8136d5fcf55"
   },
   "outputs": [
    {
     "name": "stdout",
     "output_type": "stream",
     "text": [
      "-0.03532532\n"
     ]
    }
   ],
   "source": [
    "print(grad(jit(grad(jit(grad(sum_logistic)))))(1.0))"
   ]
  },
  {
   "cell_type": "markdown",
   "metadata": {
    "id": "yCJ5feKvhnBJ"
   },
   "source": [
    "For more advanced autodiff, you can use {func}`jax.vjp` for reverse-mode vector-Jacobian products and {func}`jax.jvp` for forward-mode Jacobian-vector products. The two can be composed arbitrarily with one another, and with other JAX transformations. Here's one way to compose them to make a function that efficiently computes full Hessian matrices:"
   ]
  },
  {
   "cell_type": "code",
   "execution_count": 12,
   "metadata": {
    "executionInfo": {
     "elapsed": 414,
     "status": "ok",
     "timestamp": 1706106695654,
     "user": {
      "displayName": "",
      "userId": ""
     },
     "user_tz": -60
    },
    "id": "Z-JxbiNyhxEW"
   },
   "outputs": [],
   "source": [
    "from jax import jacfwd, jacrev\n",
    "def hessian(fun):\n",
    "  return jit(jacfwd(jacrev(fun)))"
   ]
  },
  {
   "cell_type": "markdown",
   "metadata": {
    "id": "TI4nPsGafxbL"
   },
   "source": [
    "## Auto-vectorization with {func}`~jax.vmap`"
   ]
  },
  {
   "cell_type": "markdown",
   "metadata": {
    "id": "PcxkONy5aius"
   },
   "source": [
    "JAX has one more transformation in its API that you might find useful: {func}`~jax.vmap`, the vectorizing map. It has the familiar semantics of mapping a function along array axes, but instead of keeping the loop on the outside, it pushes the loop down into a function’s primitive operations for better performance. When composed with {func}`~jax.jit`, it can be just as fast as adding the batch dimensions by hand."
   ]
  },
  {
   "cell_type": "markdown",
   "metadata": {
    "id": "TPiX4y-bWLFS"
   },
   "source": [
    "We're going to work with a simple example, and promote matrix-vector products into matrix-matrix products using {func}`~jax.vmap`. Although this is easy to do by hand in this specific case, the same technique can apply to more complicated functions."
   ]
  },
  {
   "cell_type": "code",
   "execution_count": 13,
   "metadata": {
    "executionInfo": {
     "elapsed": 340,
     "status": "ok",
     "timestamp": 1706106705117,
     "user": {
      "displayName": "",
      "userId": ""
     },
     "user_tz": -60
    },
    "id": "8w0Gpsn8WYYj"
   },
   "outputs": [],
   "source": [
    "mat = random.normal(key, (150, 100))\n",
    "batched_x = random.normal(key, (10, 100))\n",
    "\n",
    "def apply_matrix(v):\n",
    "  return jnp.dot(mat, v)"
   ]
  },
  {
   "cell_type": "markdown",
   "metadata": {
    "id": "0zWsc0RisQWx"
   },
   "source": [
    "Given a function such as `apply_matrix`, we can loop over a batch dimension in Python, but usually the performance of doing so is poor."
   ]
  },
  {
   "cell_type": "code",
   "execution_count": 14,
   "metadata": {
    "colab": {
     "base_uri": "https://localhost:8080/"
    },
    "executionInfo": {
     "elapsed": 694,
     "status": "ok",
     "timestamp": 1706106738170,
     "user": {
      "displayName": "",
      "userId": ""
     },
     "user_tz": -60
    },
    "id": "KWVc9BsZv0Ki",
    "outputId": "cfd50290-57f7-47b6-dfba-b72a51860b02"
   },
   "outputs": [
    {
     "name": "stdout",
     "output_type": "stream",
     "text": [
      "Naively batched\n",
      "2.73 ms ± 85.8 µs per loop (mean ± std. dev. of 7 runs, 1 loop each)\n"
     ]
    }
   ],
   "source": [
    "def naively_batched_apply_matrix(v_batched):\n",
    "  return jnp.stack([apply_matrix(v) for v in v_batched])\n",
    "\n",
    "print('Naively batched')\n",
    "%timeit naively_batched_apply_matrix(batched_x).block_until_ready()"
   ]
  },
  {
   "cell_type": "markdown",
   "metadata": {
    "id": "qHfKaLE9stbA"
   },
   "source": [
    "We know how to batch this operation manually. In this case, `jnp.dot` handles extra batch dimensions transparently."
   ]
  },
  {
   "cell_type": "code",
   "execution_count": 15,
   "metadata": {
    "colab": {
     "base_uri": "https://localhost:8080/"
    },
    "executionInfo": {
     "elapsed": 7768,
     "status": "ok",
     "timestamp": 1706106776732,
     "user": {
      "displayName": "",
      "userId": ""
     },
     "user_tz": -60
    },
    "id": "ipei6l8nvrzH",
    "outputId": "31027993-e1d4-4d66-8d6e-e867166d2686"
   },
   "outputs": [
    {
     "name": "stdout",
     "output_type": "stream",
     "text": [
      "Manually batched\n",
      "158 µs ± 1.5 µs per loop (mean ± std. dev. of 7 runs, 10,000 loops each)\n"
     ]
    }
   ],
   "source": [
    "@jit\n",
    "def batched_apply_matrix(v_batched):\n",
    "  return jnp.dot(v_batched, mat.T)\n",
    "\n",
    "print('Manually batched')\n",
    "%timeit batched_apply_matrix(batched_x).block_until_ready()"
   ]
  },
  {
   "cell_type": "markdown",
   "metadata": {
    "id": "1eF8Nhb-szAb"
   },
   "source": [
    "However, suppose we had a more complicated function without batching support. We can use {func}`~jax.vmap` to add batching support automatically."
   ]
  },
  {
   "cell_type": "code",
   "execution_count": 16,
   "metadata": {
    "colab": {
     "base_uri": "https://localhost:8080/"
    },
    "executionInfo": {
     "elapsed": 7296,
     "status": "ok",
     "timestamp": 1706106844709,
     "user": {
      "displayName": "",
      "userId": ""
     },
     "user_tz": -60
    },
    "id": "67Oeknf5vuCl",
    "outputId": "c697a079-c299-4e0c-b7ff-05eaa06861f7"
   },
   "outputs": [
    {
     "name": "stdout",
     "output_type": "stream",
     "text": [
      "Auto-vectorized with vmap\n",
      "157 µs ± 1.04 µs per loop (mean ± std. dev. of 7 runs, 10,000 loops each)\n"
     ]
    }
   ],
   "source": [
    "@jit\n",
    "def vmap_batched_apply_matrix(v_batched):\n",
    "  return vmap(apply_matrix)(v_batched)\n",
    "\n",
    "print('Auto-vectorized with vmap')\n",
    "%timeit vmap_batched_apply_matrix(batched_x).block_until_ready()"
   ]
  },
  {
   "cell_type": "markdown",
   "metadata": {
    "id": "pYVl3Z2nbZhO"
   },
   "source": [
    "Of course, {func}`~jax.vmap` can be arbitrarily composed with {func}`~jax.jit`, {func}`~jax.grad`, and any other JAX transformation."
   ]
  },
  {
   "cell_type": "markdown",
   "metadata": {
    "id": "4_EDa0Dlgtf8"
   },
   "source": [
    "## Parallelism basics\n",
    "\n",
    "The most basic use of `jax.pmap` is completely analogous to `jax.vmap`, more examples are in the [Parallel Evaluation in JAX notebook](https://colab.research.google.com/github/google/jax/blob/main/docs/jax-101/06-parallelism.ipynb)."
   ]
  },
  {
   "cell_type": "code",
   "execution_count": 17,
   "metadata": {
    "colab": {
     "base_uri": "https://localhost:8080/"
    },
    "executionInfo": {
     "elapsed": 355,
     "status": "ok",
     "timestamp": 1706106933623,
     "user": {
      "displayName": "",
      "userId": ""
     },
     "user_tz": -60
    },
    "id": "IIQKBr-CgtD2",
    "outputId": "752c32e3-9501-4089-96d4-03b97ac569c8"
   },
   "outputs": [
    {
     "data": {
      "text/plain": [
       "Array([11., 20., 29.], dtype=float32)"
      ]
     },
     "execution_count": 17,
     "metadata": {},
     "output_type": "execute_result"
    }
   ],
   "source": [
    "import numpy as np\n",
    "import jax.numpy as jnp\n",
    "\n",
    "x = np.arange(5)\n",
    "w = np.array([2., 3., 4.])\n",
    "\n",
    "def convolve(x, w):\n",
    "  output = []\n",
    "  for i in range(1, len(x)-1):\n",
    "    output.append(jnp.dot(x[i-1:i+2], w))\n",
    "  return jnp.array(output)\n",
    "\n",
    "convolve(x, w)"
   ]
  },
  {
   "cell_type": "markdown",
   "metadata": {
    "id": "lqxz9NNJOQ9Z"
   },
   "source": [
    "Now, let's convert our `convolve` function into one that runs on entire batches of data. In anticipation of spreading the batch across several devices, we'll make the batch size equal to the number of devices:"
   ]
  },
  {
   "cell_type": "code",
   "execution_count": 18,
   "metadata": {
    "colab": {
     "base_uri": "https://localhost:8080/"
    },
    "executionInfo": {
     "elapsed": 4,
     "status": "ok",
     "timestamp": 1706107002563,
     "user": {
      "displayName": "",
      "userId": ""
     },
     "user_tz": -60
    },
    "id": "DQG7hbcF5soI",
    "outputId": "a2a6b44b-0cb1-4969-8a1e-281431a09eb6"
   },
   "outputs": [
    {
     "data": {
      "text/plain": [
       "[TpuDevice(id=0, process_index=0, coords=(0,0,0), core_on_chip=0),\n",
       " TpuDevice(id=1, process_index=0, coords=(0,0,0), core_on_chip=1),\n",
       " TpuDevice(id=2, process_index=0, coords=(1,0,0), core_on_chip=0),\n",
       " TpuDevice(id=3, process_index=0, coords=(1,0,0), core_on_chip=1),\n",
       " TpuDevice(id=4, process_index=0, coords=(0,1,0), core_on_chip=0),\n",
       " TpuDevice(id=5, process_index=0, coords=(0,1,0), core_on_chip=1),\n",
       " TpuDevice(id=6, process_index=0, coords=(1,1,0), core_on_chip=0),\n",
       " TpuDevice(id=7, process_index=0, coords=(1,1,0), core_on_chip=1)]"
      ]
     },
     "execution_count": 18,
     "metadata": {},
     "output_type": "execute_result"
    }
   ],
   "source": [
    "jax.devices()"
   ]
  },
  {
   "cell_type": "code",
   "execution_count": 19,
   "metadata": {
    "colab": {
     "base_uri": "https://localhost:8080/"
    },
    "executionInfo": {
     "elapsed": 355,
     "status": "ok",
     "timestamp": 1706107005193,
     "user": {
      "displayName": "",
      "userId": ""
     },
     "user_tz": -60
    },
    "id": "ll-hEa0jihzx",
    "outputId": "8dded2d3-910c-4ebd-cea0-8fce43c5376a"
   },
   "outputs": [
    {
     "data": {
      "text/plain": [
       "array([[ 0,  1,  2,  3,  4],\n",
       "       [ 5,  6,  7,  8,  9],\n",
       "       [10, 11, 12, 13, 14],\n",
       "       [15, 16, 17, 18, 19],\n",
       "       [20, 21, 22, 23, 24],\n",
       "       [25, 26, 27, 28, 29],\n",
       "       [30, 31, 32, 33, 34],\n",
       "       [35, 36, 37, 38, 39]])"
      ]
     },
     "execution_count": 19,
     "metadata": {},
     "output_type": "execute_result"
    }
   ],
   "source": [
    "n_devices = jax.local_device_count()\n",
    "xs = np.arange(5 * n_devices).reshape(-1, 5)\n",
    "ws = np.stack([w] * n_devices)\n",
    "\n",
    "xs"
   ]
  },
  {
   "cell_type": "code",
   "execution_count": 20,
   "metadata": {
    "colab": {
     "base_uri": "https://localhost:8080/"
    },
    "executionInfo": {
     "elapsed": 350,
     "status": "ok",
     "timestamp": 1706107011851,
     "user": {
      "displayName": "",
      "userId": ""
     },
     "user_tz": -60
    },
    "id": "mi-nysDWYbn4",
    "outputId": "87d65281-391c-4403-c441-bbf262c4ebd4"
   },
   "outputs": [
    {
     "data": {
      "text/plain": [
       "array([[2., 3., 4.],\n",
       "       [2., 3., 4.],\n",
       "       [2., 3., 4.],\n",
       "       [2., 3., 4.],\n",
       "       [2., 3., 4.],\n",
       "       [2., 3., 4.],\n",
       "       [2., 3., 4.],\n",
       "       [2., 3., 4.]])"
      ]
     },
     "execution_count": 20,
     "metadata": {},
     "output_type": "execute_result"
    }
   ],
   "source": [
    "ws"
   ]
  },
  {
   "cell_type": "markdown",
   "metadata": {
    "id": "8kseIB09YWJw"
   },
   "source": [
    "As before, we can vectorise using `jax.vmap`:"
   ]
  },
  {
   "cell_type": "code",
   "execution_count": 21,
   "metadata": {
    "colab": {
     "base_uri": "https://localhost:8080/"
    },
    "executionInfo": {
     "elapsed": 427,
     "status": "ok",
     "timestamp": 1706107017314,
     "user": {
      "displayName": "",
      "userId": ""
     },
     "user_tz": -60
    },
    "id": "TNb9HsFXYVOI",
    "outputId": "0ea7df76-8b2e-4496-d956-34595d3605cc"
   },
   "outputs": [
    {
     "data": {
      "text/plain": [
       "Array([[ 11.,  20.,  29.],\n",
       "       [ 56.,  65.,  74.],\n",
       "       [101., 110., 119.],\n",
       "       [146., 155., 164.],\n",
       "       [191., 200., 209.],\n",
       "       [236., 245., 254.],\n",
       "       [281., 290., 299.],\n",
       "       [326., 335., 344.]], dtype=float32)"
      ]
     },
     "execution_count": 21,
     "metadata": {},
     "output_type": "execute_result"
    }
   ],
   "source": [
    "jax.vmap(convolve)(xs, ws)"
   ]
  },
  {
   "cell_type": "markdown",
   "metadata": {
    "id": "TDF1vzt_5GMC"
   },
   "source": [
    "To spread out the computation across multiple devices, just replace `jax.vmap` with `jax.pmap`:"
   ]
  },
  {
   "cell_type": "code",
   "execution_count": 22,
   "metadata": {
    "colab": {
     "base_uri": "https://localhost:8080/"
    },
    "executionInfo": {
     "elapsed": 1210,
     "status": "ok",
     "timestamp": 1706107038709,
     "user": {
      "displayName": "",
      "userId": ""
     },
     "user_tz": -60
    },
    "id": "KWoextrails4",
    "outputId": "b3e5bf68-6ec8-4bc3-c162-cf6d928ffac7"
   },
   "outputs": [
    {
     "data": {
      "text/plain": [
       "Array([[ 11.,  20.,  29.],\n",
       "       [ 56.,  65.,  74.],\n",
       "       [101., 110., 119.],\n",
       "       [146., 155., 164.],\n",
       "       [191., 200., 209.],\n",
       "       [236., 245., 254.],\n",
       "       [281., 290., 299.],\n",
       "       [326., 335., 344.]], dtype=float32)"
      ]
     },
     "execution_count": 22,
     "metadata": {},
     "output_type": "execute_result"
    }
   ],
   "source": [
    "jax.pmap(convolve)(xs, ws)"
   ]
  },
  {
   "cell_type": "markdown",
   "metadata": {
    "id": "E69cVxQPksxe"
   },
   "source": [
    "Note that the parallelized `convolve` returns a `jax.Array`. That is because the elements of this array are sharded across all of the devices used in the parallelism. If we were to run another parallel computation, the elements would stay on their respective devices, without incurring cross-device communication costs."
   ]
  },
  {
   "cell_type": "code",
   "execution_count": 23,
   "metadata": {
    "colab": {
     "base_uri": "https://localhost:8080/"
    },
    "executionInfo": {
     "elapsed": 320,
     "status": "ok",
     "timestamp": 1706107077908,
     "user": {
      "displayName": "",
      "userId": ""
     },
     "user_tz": -60
    },
    "id": "P9dUyk-ciquy",
    "outputId": "69b6a240-4c9d-4fe5-81be-99689e412c7b"
   },
   "outputs": [
    {
     "data": {
      "text/plain": [
       "Array([[   78.,   138.,   198.],\n",
       "       [ 1188.,  1383.,  1578.],\n",
       "       [ 3648.,  3978.,  4308.],\n",
       "       [ 7458.,  7923.,  8388.],\n",
       "       [12618., 13218., 13818.],\n",
       "       [19128., 19863., 20598.],\n",
       "       [26988., 27858., 28728.],\n",
       "       [36198., 37203., 38208.]], dtype=float32)"
      ]
     },
     "execution_count": 23,
     "metadata": {},
     "output_type": "execute_result"
    }
   ],
   "source": [
    "jax.pmap(convolve)(xs, jax.pmap(convolve)(xs, ws))"
   ]
  },
  {
   "cell_type": "markdown",
   "metadata": {
    "id": "iuHqht-OYqca"
   },
   "source": [
    "The outputs of the inner `jax.pmap(convolve)` never left their devices when being fed into the outer `jax.pmap(convolve)`."
   ]
  },
  {
   "cell_type": "markdown",
   "metadata": {
    "id": "dFn_VBFFlGCz"
   },
   "source": [
    "## Your first JAX training loop\n",
    "\n",
    "We still have much to learn about JAX, but you already know enough to understand how we can use JAX to build a simple training loop.\n",
    "\n",
    "To keep things simple, we'll start with a linear regression.\n",
    "\n",
    "Our data is sampled according to $y = w_{true} x + b_{true} + \\epsilon$."
   ]
  },
  {
   "cell_type": "code",
   "execution_count": 25,
   "metadata": {
    "colab": {
     "base_uri": "https://localhost:8080/",
     "height": 430
    },
    "executionInfo": {
     "elapsed": 980,
     "status": "ok",
     "timestamp": 1706107098295,
     "user": {
      "displayName": "",
      "userId": ""
     },
     "user_tz": -60
    },
    "id": "WGgyEWFqrPq1",
    "outputId": "6a8badb5-8531-4db3-abcc-f41d97cc680f"
   },
   "outputs": [
    {
     "data": {
      "image/png": "[encoded data removed]",
      "text/plain": [
       "<Figure size 640x480 with 1 Axes>"
      ]
     },
     "metadata": {},
     "output_type": "display_data"
    }
   ],
   "source": [
    "import numpy as np\n",
    "import matplotlib.pyplot as plt\n",
    "\n",
    "xs = np.random.normal(size=(100,))\n",
    "noise = np.random.normal(scale=0.1, size=(100,))\n",
    "ys = xs * 3 - 1 + noise\n",
    "\n",
    "plt.scatter(xs, ys);"
   ]
  },
  {
   "cell_type": "markdown",
   "metadata": {
    "id": "RTh22mo4rR1x"
   },
   "source": [
    "Therefore, our model is $\\hat y(x; \\theta) = wx + b$.\n",
    "\n",
    "We will use a single array, `theta = [w, b]` to house both parameters:"
   ]
  },
  {
   "cell_type": "code",
   "execution_count": 26,
   "metadata": {
    "executionInfo": {
     "elapsed": 360,
     "status": "ok",
     "timestamp": 1706107102314,
     "user": {
      "displayName": "",
      "userId": ""
     },
     "user_tz": -60
    },
    "id": "TnVrRTMamyzb"
   },
   "outputs": [],
   "source": [
    "def model(theta, x):\n",
    "  \"\"\"Computes wx + b on a batch of input x.\"\"\"\n",
    "  w, b = theta\n",
    "  return w * x + b"
   ]
  },
  {
   "cell_type": "markdown",
   "metadata": {
    "id": "qCrLmmKrn9_h"
   },
   "source": [
    "The loss function is $J(x, y; \\theta) = (\\hat y - y)^2$."
   ]
  },
  {
   "cell_type": "code",
   "execution_count": 27,
   "metadata": {
    "executionInfo": {
     "elapsed": 3,
     "status": "ok",
     "timestamp": 1706107105594,
     "user": {
      "displayName": "",
      "userId": ""
     },
     "user_tz": -60
    },
    "id": "07eMcDLMn9Ww"
   },
   "outputs": [],
   "source": [
    "def loss_fn(theta, x, y):\n",
    "  prediction = model(theta, x)\n",
    "  return jnp.mean((prediction-y)**2)"
   ]
  },
  {
   "cell_type": "markdown",
   "metadata": {
    "id": "ejMt4dulnoYX"
   },
   "source": [
    "How do we optimize a loss function? Using gradient descent. At each update step, we will find the gradient of the loss w.r.t. the parameters, and take a small step in the direction of steepest descent:\n",
    "\n",
    "$\\theta_{new} = \\theta - 0.1 (\\nabla_\\theta J) (x, y; \\theta)$"
   ]
  },
  {
   "cell_type": "code",
   "execution_count": 28,
   "metadata": {
    "executionInfo": {
     "elapsed": 3,
     "status": "ok",
     "timestamp": 1706107263366,
     "user": {
      "displayName": "",
      "userId": ""
     },
     "user_tz": -60
    },
    "id": "2I6T5Wphpaaa"
   },
   "outputs": [],
   "source": [
    "@jit\n",
    "def update(theta, x, y, lr=0.1):\n",
    "  return theta - lr * jax.grad(loss_fn)(theta, x, y)"
   ]
  },
  {
   "cell_type": "markdown",
   "metadata": {
    "id": "MAUL1gT_opVn"
   },
   "source": [
    "In JAX, it's common to define an `update()` function that is called every step, taking the current parameters as input and returning the new parameters. This is a natural consequence of JAX's functional nature, and is explained in more detail in [The Problem of State](https://colab.research.google.com/github/google/jax/blob/main/docs/jax-101/07-state.ipynb).\n",
    "\n",
    "This function can then be JIT-compiled in its entirety for maximum efficiency. The next guide will explain exactly how `jax.jit` works, but if you want to, you can try adding `@jax.jit` before the `update()` definition, and see how the training loop below runs much faster."
   ]
  },
  {
   "cell_type": "code",
   "execution_count": 29,
   "metadata": {
    "colab": {
     "base_uri": "https://localhost:8080/",
     "height": 482
    },
    "executionInfo": {
     "elapsed": 5,
     "status": "ok",
     "timestamp": 1706107265564,
     "user": {
      "displayName": "",
      "userId": ""
     },
     "user_tz": -60
    },
    "id": "WLZxY7nIpuVW",
    "outputId": "3374d5b7-4ee5-4258-dd19-513649cefe7f"
   },
   "outputs": [
    {
     "name": "stdout",
     "output_type": "stream",
     "text": [
      "w: 3.00, b: -1.01\n",
      "CPU times: user 1.54 s, sys: 118 ms, total: 1.66 s\n",
      "Wall time: 1.22 s\n"
     ]
    },
    {
     "data": {
      "image/png": "[encoded data removed]",
      "text/plain": [
       "<Figure size 640x480 with 1 Axes>"
      ]
     },
     "metadata": {},
     "output_type": "display_data"
    }
   ],
   "source": [
    "%%time\n",
    "theta = jnp.array([1., 1.])\n",
    "\n",
    "for _ in range(1000):\n",
    "  theta = update(theta, xs, ys)\n",
    "\n",
    "plt.scatter(xs, ys)\n",
    "plt.plot(xs, model(theta, xs))\n",
    "\n",
    "w, b = theta\n",
    "print(f\"w: {w:<.2f}, b: {b:<.2f}\")"
   ]
  },
  {
   "cell_type": "markdown",
   "metadata": {
    "id": "5-q17kJ_rjLc"
   },
   "source": [
    "As you will see going through these guides, this basic recipe underlies almost all training loops you'll see implemented in JAX. The main difference between this example and real training loops is the simplicity of our model: that allows us to use a single array to house all our parameters. We cover managing more parameters in the later [pytree guide](https://colab.research.google.com/github/google/jax/blob/main/docs/jax-101/05.1-pytrees.ipynb). Feel free to skip forward to that guide now to see how to manually define and train a simple MLP in JAX."
   ]
  },
  {
   "cell_type": "markdown",
   "metadata": {
    "id": "4wFJcqbhbn81"
   },
   "source": [
    "## Aside: hosts and devices in JAX\n",
    "\n",
    "When running on TPU, the idea of a 'host' becomes important. A host is the CPU that manages several devices. A single host can only manage so many devices (usually 8), so when running very large parallel programs, multiple hosts are needed, and some finesse is required to manage them."
   ]
  },
  {
   "cell_type": "markdown",
   "metadata": {
    "id": "WzQHxnHkCxej",
    "jp-MarkdownHeadingCollapsed": true
   },
   "source": [
    "## (Optional) Parallel Training Example\n",
    "\n",
    "Here's an example of a regression training loop with data parallelism, where each batch is split into sub-batches which are evaluated on separate devices.\n",
    "\n",
    "There are two places to pay attention to:\n",
    "* the `update()` function\n",
    "* the replication of parameters and splitting of data across devices.\n",
    "\n",
    "If this example is too confusing, you can find the same example, but without parallelism, in the next notebook, [State in JAX](https://colab.research.google.com/github/google/jax/blob/main/docs/jax-101/07-state.ipynb). Once that example makes sense, you can compare the differences to understand how parallelism changes the picture."
   ]
  },
  {
   "cell_type": "code",
   "execution_count": 30,
   "metadata": {
    "executionInfo": {
     "elapsed": 4,
     "status": "ok",
     "timestamp": 1706107313548,
     "user": {
      "displayName": "",
      "userId": ""
     },
     "user_tz": -60
    },
    "id": "cI8xQqzRrc-4"
   },
   "outputs": [],
   "source": [
    "from typing import NamedTuple\n",
    "import functools\n",
    "\n",
    "class Params(NamedTuple):\n",
    "  weight: jnp.ndarray\n",
    "  bias: jnp.ndarray\n",
    "\n",
    "\n",
    "def init(rng) -> Params:\n",
    "  \"\"\"Returns the initial model params.\"\"\"\n",
    "  weights_key, bias_key = jax.random.split(rng)\n",
    "  weight = jax.random.normal(weights_key, ())\n",
    "  bias = jax.random.normal(bias_key, ())\n",
    "  return Params(weight, bias)\n",
    "\n",
    "\n",
    "def loss_fn(params: Params, xs: jnp.ndarray, ys: jnp.ndarray) -> jnp.ndarray:\n",
    "  \"\"\"Computes the least squares error of the model's predictions on x against y.\"\"\"\n",
    "  pred = params.weight * xs + params.bias\n",
    "  return jnp.mean((pred - ys) ** 2)\n",
    "\n",
    "LEARNING_RATE = 0.005\n",
    "\n",
    "# So far, the code is identical to the single-device case. Here's what's new:\n",
    "\n",
    "\n",
    "# Remember that the `axis_name` is just an arbitrary string label used\n",
    "# to later tell `jax.lax.pmean` which axis to reduce over. Here, we call it\n",
    "# 'num_devices', but could have used anything, so long as `pmean` used the same.\n",
    "@functools.partial(jax.pmap, axis_name='num_devices')\n",
    "def update(params: Params, xs: jnp.ndarray, ys: jnp.ndarray) -> tuple[Params, jnp.ndarray]:\n",
    "  \"\"\"Performs one SGD update step on params using the given data.\"\"\"\n",
    "\n",
    "  # Compute the gradients on the given minibatch (individually on each device).\n",
    "  loss, grads = jax.value_and_grad(loss_fn)(params, xs, ys)\n",
    "\n",
    "  # Combine the gradient across all devices (by taking their mean).\n",
    "  grads = jax.lax.pmean(grads, axis_name='num_devices')\n",
    "\n",
    "  # Also combine the loss. Unnecessary for the update, but useful for logging.\n",
    "  loss = jax.lax.pmean(loss, axis_name='num_devices')\n",
    "\n",
    "  # Each device performs its own update, but since we start with the same params\n",
    "  # and synchronise gradients, the params stay in sync.\n",
    "  new_params = jax.tree_map(\n",
    "      lambda param, g: param - g * LEARNING_RATE, params, grads)\n",
    "\n",
    "  return new_params, loss"
   ]
  },
  {
   "cell_type": "markdown",
   "metadata": {
    "id": "RWce8YZ4Pcmf"
   },
   "source": [
    "Here's how `update()` works:\n",
    "\n",
    "Undecorated and without the `pmean`s, `update()` takes data tensors of shape `[batch, ...]`, computes the loss function on that batch and evaluates its gradients.\n",
    "\n",
    "We want to spread the `batch` dimension across all available devices. To do that, we add a new axis using `pmap`. The arguments to the decorated `update()` thus need to have shape `[num_devices, batch_per_device, ...]`. So, to call the new `update()`, we'll need to reshape data batches so that what used to be `batch` is reshaped to `[num_devices, batch_per_device]`. That's what `split()` does below. Additionally, we'll need to replicate our model parameters, adding the `num_devices` axis. This reshaping is how a pmapped function knows which devices to send which data.\n",
    "\n",
    "At some point during the update step, we need to combine the gradients computed by each device -- otherwise, the updates performed by each device would be different. That's why we use `jax.lax.pmean` to compute the mean across the `num_devices` axis, giving us the average gradient of the batch. That average gradient is what we use to compute the update.\n",
    "\n",
    "Aside on naming: here, we use `num_devices` for the `axis_name` for didactic clarity while introducing `jax.pmap`. However, in some sense that is tautologous: any axis introduced by a pmap will represent a number of devices. Therefore, it's common to see the axis be named something semantically meaningful, like `batch`, `data` (signifying data parallelism) or `model` (signifying model parallelism)."
   ]
  },
  {
   "cell_type": "code",
   "execution_count": 31,
   "metadata": {
    "executionInfo": {
     "elapsed": 5,
     "status": "ok",
     "timestamp": 1706107315863,
     "user": {
      "displayName": "",
      "userId": ""
     },
     "user_tz": -60
    },
    "id": "_CTtLrsQ-0kK"
   },
   "outputs": [],
   "source": [
    "# Generate true data from y = w*x + b + noise\n",
    "true_w, true_b = 2, -1\n",
    "xs = np.random.normal(size=(128, 1))\n",
    "noise = 0.5 * np.random.normal(size=(128, 1))\n",
    "ys = xs * true_w + true_b + noise\n",
    "\n",
    "# Initialise parameters and replicate across devices.\n",
    "params = init(jax.random.PRNGKey(123))\n",
    "n_devices = jax.local_device_count()\n",
    "replicated_params = jax.tree_map(lambda x: jnp.array([x] * n_devices), params)"
   ]
  },
  {
   "cell_type": "markdown",
   "metadata": {
    "id": "dmCMyLP9SV99"
   },
   "source": [
    "So far, we've just constructed arrays with an additional leading dimension. The params are all still on the host (CPU). `pmap` will communicate them to the devices when `update()` is first called, and each copy will stay on its own device subsequently."
   ]
  },
  {
   "cell_type": "code",
   "execution_count": 32,
   "metadata": {
    "colab": {
     "base_uri": "https://localhost:8080/"
    },
    "executionInfo": {
     "elapsed": 294,
     "status": "ok",
     "timestamp": 1706107319766,
     "user": {
      "displayName": "",
      "userId": ""
     },
     "user_tz": -60
    },
    "id": "YSCgHguTSdGW",
    "outputId": "f10bc3ff-d4ea-43dc-935c-01efdd920234"
   },
   "outputs": [
    {
     "data": {
      "text/plain": [
       "jaxlib.xla_extension.ArrayImpl"
      ]
     },
     "execution_count": 32,
     "metadata": {},
     "output_type": "execute_result"
    }
   ],
   "source": [
    "type(replicated_params.weight)"
   ]
  },
  {
   "cell_type": "markdown",
   "metadata": {
    "id": "90VtjPbeY-hD"
   },
   "source": [
    "The params will become a jax.Array when they are returned by our pmapped `update()` (see further down)."
   ]
  },
  {
   "cell_type": "markdown",
   "metadata": {
    "id": "eGVKxk1CV-m1"
   },
   "source": [
    "We do the same to the data:"
   ]
  },
  {
   "cell_type": "code",
   "execution_count": 33,
   "metadata": {
    "colab": {
     "base_uri": "https://localhost:8080/"
    },
    "executionInfo": {
     "elapsed": 3,
     "status": "ok",
     "timestamp": 1706107323003,
     "user": {
      "displayName": "",
      "userId": ""
     },
     "user_tz": -60
    },
    "id": "vY61QJoFWCII",
    "outputId": "44b1721e-3c2f-4490-f8f0-b7d7f5ca7a64"
   },
   "outputs": [
    {
     "data": {
      "text/plain": [
       "numpy.ndarray"
      ]
     },
     "execution_count": 33,
     "metadata": {},
     "output_type": "execute_result"
    }
   ],
   "source": [
    "def split(arr):\n",
    "  \"\"\"Splits the first axis of `arr` evenly across the number of devices.\"\"\"\n",
    "  return arr.reshape(n_devices, arr.shape[0] // n_devices, *arr.shape[1:])\n",
    "\n",
    "# Reshape xs and ys for the pmapped `update()`.\n",
    "x_split = split(xs)\n",
    "y_split = split(ys)\n",
    "\n",
    "type(x_split)"
   ]
  },
  {
   "cell_type": "markdown",
   "metadata": {
    "id": "RzfJ-oK5WERq"
   },
   "source": [
    "The data is just a reshaped vanilla NumPy array. Hence, it cannot be anywhere but on the host, as NumPy runs on CPU only. Since we never modify it, it will get sent to the device at each `update` call, like in a real pipeline where data is typically streamed from CPU to the device at each step."
   ]
  },
  {
   "cell_type": "code",
   "execution_count": 34,
   "metadata": {
    "colab": {
     "base_uri": "https://localhost:8080/"
    },
    "executionInfo": {
     "elapsed": 756,
     "status": "ok",
     "timestamp": 1706107396502,
     "user": {
      "displayName": "",
      "userId": ""
     },
     "user_tz": -60
    },
    "id": "atOTi7EeSQw-",
    "outputId": "6871ef86-e8a3-4939-fddb-48e9cb2e3ad5"
   },
   "outputs": [
    {
     "name": "stdout",
     "output_type": "stream",
     "text": [
      "after first `update()`, `replicated_params.weight` is a <class 'jaxlib.xla_extension.ArrayImpl'>\n",
      "after first `update()`, `loss` is a <class 'jaxlib.xla_extension.ArrayImpl'>\n",
      "after first `update()`, `x_split` is a <class 'numpy.ndarray'>\n",
      "Step   0, loss: 4.825\n",
      "Step 100, loss: 0.975\n",
      "Step 200, loss: 0.360\n",
      "Step 300, loss: 0.261\n",
      "Step 400, loss: 0.245\n",
      "Step 500, loss: 0.243\n",
      "Step 600, loss: 0.242\n",
      "Step 700, loss: 0.242\n",
      "Step 800, loss: 0.242\n",
      "Step 900, loss: 0.242\n"
     ]
    }
   ],
   "source": [
    "def type_after_update(name, obj):\n",
    "  print(f\"after first `update()`, `{name}` is a\", type(obj))\n",
    "\n",
    "# Actual training loop.\n",
    "for i in range(1000):\n",
    "\n",
    "  # This is where the params and data gets communicated to devices:\n",
    "  replicated_params, loss = update(replicated_params, x_split, y_split)\n",
    "\n",
    "  # The returned `replicated_params` and `loss` are now both jax.Arrays,\n",
    "  # indicating that they're on the devices.\n",
    "  # `x_split`, of course, remains a NumPy array on the host.\n",
    "  if i == 0:\n",
    "    type_after_update('replicated_params.weight', replicated_params.weight)\n",
    "    type_after_update('loss', loss)\n",
    "    type_after_update('x_split', x_split)\n",
    "\n",
    "  if i % 100 == 0:\n",
    "    # Note that loss is actually an array of shape [num_devices], with identical\n",
    "    # entries, because each device returns its copy of the loss.\n",
    "    # So, we take the first element to print it.\n",
    "    print(f\"Step {i:3d}, loss: {loss[0]:.3f}\")\n",
    "\n",
    "\n",
    "# Plot results.\n",
    "\n",
    "# Like the loss, the leaves of params have an extra leading dimension,\n",
    "# so we take the params from the first device.\n",
    "params = jax.device_get(jax.tree_map(lambda x: x[0], replicated_params))"
   ]
  },
  {
   "cell_type": "code",
   "execution_count": 35,
   "metadata": {
    "colab": {
     "base_uri": "https://localhost:8080/",
     "height": 430
    },
    "executionInfo": {
     "elapsed": 371,
     "status": "ok",
     "timestamp": 1706107354447,
     "user": {
      "displayName": "",
      "userId": ""
     },
     "user_tz": -60
    },
    "id": "rvVCACv9UZcF",
    "outputId": "560b82e2-29d9-4a07-e0e1-dc592f84293d"
   },
   "outputs": [
    {
     "data": {
      "image/png": "[encoded data removed]",
      "text/plain": [
       "<Figure size 640x480 with 1 Axes>"
      ]
     },
     "metadata": {},
     "output_type": "display_data"
    }
   ],
   "source": [
    "import matplotlib.pyplot as plt\n",
    "plt.scatter(xs, ys)\n",
    "plt.plot(xs, params.weight * xs + params.bias, c='red', label='Model Prediction')\n",
    "plt.legend()\n",
    "plt.show()"
   ]
  },
  {
   "cell_type": "code",
   "execution_count": 36,
   "metadata": {
    "colab": {
     "base_uri": "https://localhost:8080/"
    },
    "executionInfo": {
     "elapsed": 385,
     "status": "ok",
     "timestamp": 1706107360461,
     "user": {
      "displayName": "",
      "userId": ""
     },
     "user_tz": -60
    },
    "id": "3DO8NwW5hurX",
    "outputId": "e503d3ab-b8c7-4170-b455-58240eb4d127"
   },
   "outputs": [
    {
     "data": {
      "text/plain": [
       "[TpuDevice(id=0, process_index=0, coords=(0,0,0), core_on_chip=0),\n",
       " TpuDevice(id=1, process_index=0, coords=(0,0,0), core_on_chip=1),\n",
       " TpuDevice(id=2, process_index=0, coords=(1,0,0), core_on_chip=0),\n",
       " TpuDevice(id=3, process_index=0, coords=(1,0,0), core_on_chip=1),\n",
       " TpuDevice(id=4, process_index=0, coords=(0,1,0), core_on_chip=0),\n",
       " TpuDevice(id=5, process_index=0, coords=(0,1,0), core_on_chip=1),\n",
       " TpuDevice(id=6, process_index=0, coords=(1,1,0), core_on_chip=0),\n",
       " TpuDevice(id=7, process_index=0, coords=(1,1,0), core_on_chip=1)]"
      ]
     },
     "execution_count": 36,
     "metadata": {},
     "output_type": "execute_result"
    }
   ],
   "source": [
    "jax.devices()"
   ]
  },
  {
   "cell_type": "markdown",
   "metadata": {
    "id": "sJwayfCoy15a"
   },
   "source": [
    "When running on CPU you can always emulate an arbitrary number of devices with a nifty `--xla_force_host_platform_device_count` XLA flag, e.g. by executing the following before importing JAX:\n",
    "```python\n",
    "import os\n",
    "os.environ['XLA_FLAGS'] = '--xla_force_host_platform_device_count=8'\n",
    "jax.devices()\n",
    "```\n",
    "```\n",
    "[CpuDevice(id=0),\n",
    " CpuDevice(id=1),\n",
    " CpuDevice(id=2),\n",
    " CpuDevice(id=3),\n",
    " CpuDevice(id=4),\n",
    " CpuDevice(id=5),\n",
    " CpuDevice(id=6),\n",
    " CpuDevice(id=7)]\n",
    "```\n",
    "This is especially useful for debugging and testing locally or even for prototyping in Colab since a CPU runtime is faster to (re-)start."
   ]
  },
  {
   "cell_type": "markdown",
   "metadata": {
    "id": "WwNnjaI4th_8"
   },
   "source": [
    "This is just a taste of what JAX can do. We're really excited to see what you do with it!"
   ]
  }
 ],
 "metadata": {
  "accelerator": "GPU",
  "colab": {
   "name": "JAX Quickstart.ipynb",
   "provenance": [],
   "toc_visible": true
  },
  "jupytext": {
   "formats": "ipynb,md:myst"
  },
  "kernelspec": {
   "display_name": "Python 3 (ipykernel)",
   "language": "python",
   "name": "python3"
  },
  "language_info": {
   "codemirror_mode": {
    "name": "ipython",
    "version": 3
   },
   "file_extension": ".py",
   "mimetype": "text/x-python",
   "name": "python",
   "nbconvert_exporter": "python",
   "pygments_lexer": "ipython3",
   "version": "3.10.6"
  }
 },
 "nbformat": 4,
 "nbformat_minor": 4
}
