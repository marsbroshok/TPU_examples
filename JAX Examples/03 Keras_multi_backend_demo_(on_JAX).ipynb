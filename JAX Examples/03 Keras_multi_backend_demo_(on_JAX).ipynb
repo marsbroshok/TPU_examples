{
 "cells": [
  {
   "cell_type": "markdown",
   "metadata": {
    "id": "ML_pxKRnFg_Y"
   },
   "source": [
    "# JAX-native distribution with a Keras model"
   ]
  },
  {
   "cell_type": "code",
   "execution_count": null,
   "metadata": {},
   "outputs": [],
   "source": [
    "!pip install --upgrade -q tensorflow\n",
    "!pip install --upgrade keras"
   ]
  },
  {
   "cell_type": "code",
   "execution_count": null,
   "metadata": {},
   "outputs": [],
   "source": [
    "!pip install tqdm"
   ]
  },
  {
   "cell_type": "code",
   "execution_count": 4,
   "metadata": {
    "colab": {
     "base_uri": "https://localhost:8080/"
    },
    "executionInfo": {
     "elapsed": 7932,
     "status": "ok",
     "timestamp": 1706114688302,
     "user": {
      "displayName": "",
      "userId": ""
     },
     "user_tz": -60
    },
    "id": "4f9LzQC1Rppi",
    "outputId": "f0a81dc2-e19f-421f-b05d-97b8f70e8b99"
   },
   "outputs": [],
   "source": [
    "# Force a JAX backend\n",
    "import os\n",
    "os.environ['KERAS_BACKEND'] = 'jax'"
   ]
  },
  {
   "cell_type": "code",
   "execution_count": 5,
   "metadata": {
    "colab": {
     "base_uri": "https://localhost:8080/"
    },
    "executionInfo": {
     "elapsed": 3028,
     "status": "ok",
     "timestamp": 1706114691328,
     "user": {
      "displayName": "",
      "userId": ""
     },
     "user_tz": -60
    },
    "id": "iPRg2NNgRq5N",
    "outputId": "128d604b-f909-46c5-ce95-7aee7ac8331b"
   },
   "outputs": [
    {
     "name": "stderr",
     "output_type": "stream",
     "text": [
      "2024-01-25 06:49:00.626221: E external/local_xla/xla/stream_executor/cuda/cuda_dnn.cc:9261] Unable to register cuDNN factory: Attempting to register factory for plugin cuDNN when one has already been registered\n",
      "2024-01-25 06:49:00.626273: E external/local_xla/xla/stream_executor/cuda/cuda_fft.cc:607] Unable to register cuFFT factory: Attempting to register factory for plugin cuFFT when one has already been registered\n",
      "2024-01-25 06:49:00.628363: E external/local_xla/xla/stream_executor/cuda/cuda_blas.cc:1515] Unable to register cuBLAS factory: Attempting to register factory for plugin cuBLAS when one has already been registered\n",
      "2024-01-25 06:49:02.256272: W tensorflow/compiler/tf2tensorrt/utils/py_utils.cc:38] TF-TRT Warning: Could not find TensorRT\n"
     ]
    },
    {
     "name": "stdout",
     "output_type": "stream",
     "text": [
      "3.0.4\n"
     ]
    }
   ],
   "source": [
    "import jax\n",
    "import jax.numpy as jnp\n",
    "import tensorflow as tf # just for tf.data\n",
    "import keras # Keras multi-backend\n",
    "\n",
    "import numpy as np\n",
    "import collections\n",
    "from tqdm import tqdm\n",
    "\n",
    "print(keras.__version__)"
   ]
  },
  {
   "cell_type": "markdown",
   "metadata": {
    "id": "obZWDMxqM5IE"
   },
   "source": [
    "# Dataset\n",
    "Classic MNIST, loaded using tf.data"
   ]
  },
  {
   "cell_type": "code",
   "execution_count": 6,
   "metadata": {
    "colab": {
     "base_uri": "https://localhost:8080/"
    },
    "executionInfo": {
     "elapsed": 2404,
     "status": "ok",
     "timestamp": 1706114693727,
     "user": {
      "displayName": "",
      "userId": ""
     },
     "user_tz": -60
    },
    "id": "xlaMDJEHTZ_g",
    "outputId": "80055487-7550-41e2-d4b6-0f9c4497ce47"
   },
   "outputs": [
    {
     "name": "stdout",
     "output_type": "stream",
     "text": [
      "(TensorSpec(shape=(192, 28, 28, 1), dtype=tf.float32, name=None), TensorSpec(shape=(192,), dtype=tf.uint8, name=None))\n"
     ]
    }
   ],
   "source": [
    "BATCH_SIZE=192\n",
    "\n",
    "(x_train, train_labels), (x_eval, eval_labels) = keras.datasets.mnist.load_data()\n",
    "x_train = np.expand_dims(x_train, axis=-1).astype(np.float32) # from 28x28 to 28x28 x 1 color channel (B&W)\n",
    "x_eval = np.expand_dims(x_eval, axis=-1).astype(np.float32)\n",
    "\n",
    "train_data = tf.data.Dataset.from_tensor_slices((x_train, train_labels))\n",
    "train_data = train_data.shuffle(5000, reshuffle_each_iteration=True)\n",
    "train_data = train_data.batch(BATCH_SIZE, drop_remainder=True)\n",
    "train_data = train_data.repeat()\n",
    "\n",
    "eval_data = tf.data.Dataset.from_tensor_slices((x_eval, eval_labels))\n",
    "eval_data = eval_data.batch(10000) # everything as one batch\n",
    "\n",
    "STEPS_PER_EPOCH = len(train_labels)//BATCH_SIZE\n",
    "print(train_data.element_spec)"
   ]
  },
  {
   "cell_type": "markdown",
   "metadata": {
    "id": "d95A5phzNBHz"
   },
   "source": [
    "# Keras model\n",
    "Simple but non-trivial model with:\n",
    "* Batch Normalization (non-trainable state updated during trainig, different training-time and inference behavior)\n",
    "* Dropout (randomness, different training time and inference behavior)"
   ]
  },
  {
   "cell_type": "code",
   "execution_count": 7,
   "metadata": {
    "colab": {
     "base_uri": "https://localhost:8080/",
     "height": 689
    },
    "executionInfo": {
     "elapsed": 1443,
     "status": "ok",
     "timestamp": 1706114695166,
     "user": {
      "displayName": "",
      "userId": ""
     },
     "user_tz": -60
    },
    "id": "1Jy5Rf2ZR07I",
    "outputId": "4b77e097-0835-4f2e-d415-870280745205"
   },
   "outputs": [
    {
     "data": {
      "text/html": [
       "<pre style=\"white-space:pre;overflow-x:auto;line-height:normal;font-family:Menlo,'DejaVu Sans Mono',consolas,'Courier New',monospace\"><span style=\"font-weight: bold\">Model: \"functional_2\"</span>\n",
       "</pre>\n"
      ],
      "text/plain": [
       "\u001b[1mModel: \"functional_2\"\u001b[0m\n"
      ]
     },
     "metadata": {},
     "output_type": "display_data"
    },
    {
     "data": {
      "text/html": [
       "<pre style=\"white-space:pre;overflow-x:auto;line-height:normal;font-family:Menlo,'DejaVu Sans Mono',consolas,'Courier New',monospace\">┏━━━━━━━━━━━━━━━━━━━━━━━━━━━━━━━━━┳━━━━━━━━━━━━━━━━━━━━━━━━━━━┳━━━━━━━━━━━━┓\n",
       "┃<span style=\"font-weight: bold\"> Layer (type)                    </span>┃<span style=\"font-weight: bold\"> Output Shape              </span>┃<span style=\"font-weight: bold\">    Param # </span>┃\n",
       "┡━━━━━━━━━━━━━━━━━━━━━━━━━━━━━━━━━╇━━━━━━━━━━━━━━━━━━━━━━━━━━━╇━━━━━━━━━━━━┩\n",
       "│ input_layer (<span style=\"color: #0087ff; text-decoration-color: #0087ff\">InputLayer</span>)        │ (<span style=\"color: #00d7ff; text-decoration-color: #00d7ff\">None</span>, <span style=\"color: #00af00; text-decoration-color: #00af00\">28</span>, <span style=\"color: #00af00; text-decoration-color: #00af00\">28</span>, <span style=\"color: #00af00; text-decoration-color: #00af00\">1</span>)         │          <span style=\"color: #00af00; text-decoration-color: #00af00\">0</span> │\n",
       "├─────────────────────────────────┼───────────────────────────┼────────────┤\n",
       "│ backbone (<span style=\"color: #0087ff; text-decoration-color: #0087ff\">Sequential</span>)           │ (<span style=\"color: #00d7ff; text-decoration-color: #00d7ff\">None</span>, <span style=\"color: #00af00; text-decoration-color: #00af00\">7</span>, <span style=\"color: #00af00; text-decoration-color: #00af00\">7</span>, <span style=\"color: #00af00; text-decoration-color: #00af00\">32</span>)          │     <span style=\"color: #00af00; text-decoration-color: #00af00\">38,328</span> │\n",
       "├─────────────────────────────────┼───────────────────────────┼────────────┤\n",
       "│    └ rescaling (<span style=\"color: #0087ff; text-decoration-color: #0087ff\">Rescaling</span>)      │ (<span style=\"color: #00d7ff; text-decoration-color: #00d7ff\">None</span>, <span style=\"color: #00af00; text-decoration-color: #00af00\">28</span>, <span style=\"color: #00af00; text-decoration-color: #00af00\">28</span>, <span style=\"color: #00af00; text-decoration-color: #00af00\">1</span>)         │          <span style=\"color: #00af00; text-decoration-color: #00af00\">0</span> │\n",
       "├─────────────────────────────────┼───────────────────────────┼────────────┤\n",
       "│    └ conv2d (<span style=\"color: #0087ff; text-decoration-color: #0087ff\">Conv2D</span>)            │ (<span style=\"color: #00d7ff; text-decoration-color: #00d7ff\">None</span>, <span style=\"color: #00af00; text-decoration-color: #00af00\">28</span>, <span style=\"color: #00af00; text-decoration-color: #00af00\">28</span>, <span style=\"color: #00af00; text-decoration-color: #00af00\">12</span>)        │        <span style=\"color: #00af00; text-decoration-color: #00af00\">108</span> │\n",
       "├─────────────────────────────────┼───────────────────────────┼────────────┤\n",
       "│    └ batch_normalization        │ (<span style=\"color: #00d7ff; text-decoration-color: #00d7ff\">None</span>, <span style=\"color: #00af00; text-decoration-color: #00af00\">28</span>, <span style=\"color: #00af00; text-decoration-color: #00af00\">28</span>, <span style=\"color: #00af00; text-decoration-color: #00af00\">12</span>)        │         <span style=\"color: #00af00; text-decoration-color: #00af00\">36</span> │\n",
       "│ (<span style=\"color: #0087ff; text-decoration-color: #0087ff\">BatchNormalization</span>)            │                           │            │\n",
       "├─────────────────────────────────┼───────────────────────────┼────────────┤\n",
       "│    └ activation (<span style=\"color: #0087ff; text-decoration-color: #0087ff\">Activation</span>)    │ (<span style=\"color: #00d7ff; text-decoration-color: #00d7ff\">None</span>, <span style=\"color: #00af00; text-decoration-color: #00af00\">28</span>, <span style=\"color: #00af00; text-decoration-color: #00af00\">28</span>, <span style=\"color: #00af00; text-decoration-color: #00af00\">12</span>)        │          <span style=\"color: #00af00; text-decoration-color: #00af00\">0</span> │\n",
       "├─────────────────────────────────┼───────────────────────────┼────────────┤\n",
       "│    └ conv2d_1 (<span style=\"color: #0087ff; text-decoration-color: #0087ff\">Conv2D</span>)          │ (<span style=\"color: #00d7ff; text-decoration-color: #00d7ff\">None</span>, <span style=\"color: #00af00; text-decoration-color: #00af00\">14</span>, <span style=\"color: #00af00; text-decoration-color: #00af00\">14</span>, <span style=\"color: #00af00; text-decoration-color: #00af00\">24</span>)        │     <span style=\"color: #00af00; text-decoration-color: #00af00\">10,368</span> │\n",
       "├─────────────────────────────────┼───────────────────────────┼────────────┤\n",
       "│    └ batch_normalization_1      │ (<span style=\"color: #00d7ff; text-decoration-color: #00d7ff\">None</span>, <span style=\"color: #00af00; text-decoration-color: #00af00\">14</span>, <span style=\"color: #00af00; text-decoration-color: #00af00\">14</span>, <span style=\"color: #00af00; text-decoration-color: #00af00\">24</span>)        │         <span style=\"color: #00af00; text-decoration-color: #00af00\">72</span> │\n",
       "│ (<span style=\"color: #0087ff; text-decoration-color: #0087ff\">BatchNormalization</span>)            │                           │            │\n",
       "├─────────────────────────────────┼───────────────────────────┼────────────┤\n",
       "│    └ activation_1 (<span style=\"color: #0087ff; text-decoration-color: #0087ff\">Activation</span>)  │ (<span style=\"color: #00d7ff; text-decoration-color: #00d7ff\">None</span>, <span style=\"color: #00af00; text-decoration-color: #00af00\">14</span>, <span style=\"color: #00af00; text-decoration-color: #00af00\">14</span>, <span style=\"color: #00af00; text-decoration-color: #00af00\">24</span>)        │          <span style=\"color: #00af00; text-decoration-color: #00af00\">0</span> │\n",
       "├─────────────────────────────────┼───────────────────────────┼────────────┤\n",
       "│    └ large_k (<span style=\"color: #0087ff; text-decoration-color: #0087ff\">Conv2D</span>)           │ (<span style=\"color: #00d7ff; text-decoration-color: #00d7ff\">None</span>, <span style=\"color: #00af00; text-decoration-color: #00af00\">7</span>, <span style=\"color: #00af00; text-decoration-color: #00af00\">7</span>, <span style=\"color: #00af00; text-decoration-color: #00af00\">32</span>)          │     <span style=\"color: #00af00; text-decoration-color: #00af00\">27,648</span> │\n",
       "├─────────────────────────────────┼───────────────────────────┼────────────┤\n",
       "│    └ batch_normalization_2      │ (<span style=\"color: #00d7ff; text-decoration-color: #00d7ff\">None</span>, <span style=\"color: #00af00; text-decoration-color: #00af00\">7</span>, <span style=\"color: #00af00; text-decoration-color: #00af00\">7</span>, <span style=\"color: #00af00; text-decoration-color: #00af00\">32</span>)          │         <span style=\"color: #00af00; text-decoration-color: #00af00\">96</span> │\n",
       "│ (<span style=\"color: #0087ff; text-decoration-color: #0087ff\">BatchNormalization</span>)            │                           │            │\n",
       "├─────────────────────────────────┼───────────────────────────┼────────────┤\n",
       "│    └ activation_2 (<span style=\"color: #0087ff; text-decoration-color: #0087ff\">Activation</span>)  │ (<span style=\"color: #00d7ff; text-decoration-color: #00d7ff\">None</span>, <span style=\"color: #00af00; text-decoration-color: #00af00\">7</span>, <span style=\"color: #00af00; text-decoration-color: #00af00\">7</span>, <span style=\"color: #00af00; text-decoration-color: #00af00\">32</span>)          │          <span style=\"color: #00af00; text-decoration-color: #00af00\">0</span> │\n",
       "├─────────────────────────────────┼───────────────────────────┼────────────┤\n",
       "│ flatten (<span style=\"color: #0087ff; text-decoration-color: #0087ff\">Flatten</span>)               │ (<span style=\"color: #00d7ff; text-decoration-color: #00d7ff\">None</span>, <span style=\"color: #00af00; text-decoration-color: #00af00\">1568</span>)              │          <span style=\"color: #00af00; text-decoration-color: #00af00\">0</span> │\n",
       "├─────────────────────────────────┼───────────────────────────┼────────────┤\n",
       "│ dense (<span style=\"color: #0087ff; text-decoration-color: #0087ff\">Dense</span>)                   │ (<span style=\"color: #00d7ff; text-decoration-color: #00d7ff\">None</span>, <span style=\"color: #00af00; text-decoration-color: #00af00\">200</span>)               │    <span style=\"color: #00af00; text-decoration-color: #00af00\">313,600</span> │\n",
       "├─────────────────────────────────┼───────────────────────────┼────────────┤\n",
       "│ dropout (<span style=\"color: #0087ff; text-decoration-color: #0087ff\">Dropout</span>)               │ (<span style=\"color: #00d7ff; text-decoration-color: #00d7ff\">None</span>, <span style=\"color: #00af00; text-decoration-color: #00af00\">200</span>)               │          <span style=\"color: #00af00; text-decoration-color: #00af00\">0</span> │\n",
       "├─────────────────────────────────┼───────────────────────────┼────────────┤\n",
       "│ dense_1 (<span style=\"color: #0087ff; text-decoration-color: #0087ff\">Dense</span>)                 │ (<span style=\"color: #00d7ff; text-decoration-color: #00d7ff\">None</span>, <span style=\"color: #00af00; text-decoration-color: #00af00\">10</span>)                │      <span style=\"color: #00af00; text-decoration-color: #00af00\">2,010</span> │\n",
       "└─────────────────────────────────┴───────────────────────────┴────────────┘\n",
       "</pre>\n"
      ],
      "text/plain": [
       "┏━━━━━━━━━━━━━━━━━━━━━━━━━━━━━━━━━┳━━━━━━━━━━━━━━━━━━━━━━━━━━━┳━━━━━━━━━━━━┓\n",
       "┃\u001b[1m \u001b[0m\u001b[1mLayer (type)                   \u001b[0m\u001b[1m \u001b[0m┃\u001b[1m \u001b[0m\u001b[1mOutput Shape             \u001b[0m\u001b[1m \u001b[0m┃\u001b[1m \u001b[0m\u001b[1m   Param #\u001b[0m\u001b[1m \u001b[0m┃\n",
       "┡━━━━━━━━━━━━━━━━━━━━━━━━━━━━━━━━━╇━━━━━━━━━━━━━━━━━━━━━━━━━━━╇━━━━━━━━━━━━┩\n",
       "│ input_layer (\u001b[38;5;33mInputLayer\u001b[0m)        │ (\u001b[38;5;45mNone\u001b[0m, \u001b[38;5;34m28\u001b[0m, \u001b[38;5;34m28\u001b[0m, \u001b[38;5;34m1\u001b[0m)         │          \u001b[38;5;34m0\u001b[0m │\n",
       "├─────────────────────────────────┼───────────────────────────┼────────────┤\n",
       "│ backbone (\u001b[38;5;33mSequential\u001b[0m)           │ (\u001b[38;5;45mNone\u001b[0m, \u001b[38;5;34m7\u001b[0m, \u001b[38;5;34m7\u001b[0m, \u001b[38;5;34m32\u001b[0m)          │     \u001b[38;5;34m38,328\u001b[0m │\n",
       "├─────────────────────────────────┼───────────────────────────┼────────────┤\n",
       "│    └ rescaling (\u001b[38;5;33mRescaling\u001b[0m)      │ (\u001b[38;5;45mNone\u001b[0m, \u001b[38;5;34m28\u001b[0m, \u001b[38;5;34m28\u001b[0m, \u001b[38;5;34m1\u001b[0m)         │          \u001b[38;5;34m0\u001b[0m │\n",
       "├─────────────────────────────────┼───────────────────────────┼────────────┤\n",
       "│    └ conv2d (\u001b[38;5;33mConv2D\u001b[0m)            │ (\u001b[38;5;45mNone\u001b[0m, \u001b[38;5;34m28\u001b[0m, \u001b[38;5;34m28\u001b[0m, \u001b[38;5;34m12\u001b[0m)        │        \u001b[38;5;34m108\u001b[0m │\n",
       "├─────────────────────────────────┼───────────────────────────┼────────────┤\n",
       "│    └ batch_normalization        │ (\u001b[38;5;45mNone\u001b[0m, \u001b[38;5;34m28\u001b[0m, \u001b[38;5;34m28\u001b[0m, \u001b[38;5;34m12\u001b[0m)        │         \u001b[38;5;34m36\u001b[0m │\n",
       "│ (\u001b[38;5;33mBatchNormalization\u001b[0m)            │                           │            │\n",
       "├─────────────────────────────────┼───────────────────────────┼────────────┤\n",
       "│    └ activation (\u001b[38;5;33mActivation\u001b[0m)    │ (\u001b[38;5;45mNone\u001b[0m, \u001b[38;5;34m28\u001b[0m, \u001b[38;5;34m28\u001b[0m, \u001b[38;5;34m12\u001b[0m)        │          \u001b[38;5;34m0\u001b[0m │\n",
       "├─────────────────────────────────┼───────────────────────────┼────────────┤\n",
       "│    └ conv2d_1 (\u001b[38;5;33mConv2D\u001b[0m)          │ (\u001b[38;5;45mNone\u001b[0m, \u001b[38;5;34m14\u001b[0m, \u001b[38;5;34m14\u001b[0m, \u001b[38;5;34m24\u001b[0m)        │     \u001b[38;5;34m10,368\u001b[0m │\n",
       "├─────────────────────────────────┼───────────────────────────┼────────────┤\n",
       "│    └ batch_normalization_1      │ (\u001b[38;5;45mNone\u001b[0m, \u001b[38;5;34m14\u001b[0m, \u001b[38;5;34m14\u001b[0m, \u001b[38;5;34m24\u001b[0m)        │         \u001b[38;5;34m72\u001b[0m │\n",
       "│ (\u001b[38;5;33mBatchNormalization\u001b[0m)            │                           │            │\n",
       "├─────────────────────────────────┼───────────────────────────┼────────────┤\n",
       "│    └ activation_1 (\u001b[38;5;33mActivation\u001b[0m)  │ (\u001b[38;5;45mNone\u001b[0m, \u001b[38;5;34m14\u001b[0m, \u001b[38;5;34m14\u001b[0m, \u001b[38;5;34m24\u001b[0m)        │          \u001b[38;5;34m0\u001b[0m │\n",
       "├─────────────────────────────────┼───────────────────────────┼────────────┤\n",
       "│    └ large_k (\u001b[38;5;33mConv2D\u001b[0m)           │ (\u001b[38;5;45mNone\u001b[0m, \u001b[38;5;34m7\u001b[0m, \u001b[38;5;34m7\u001b[0m, \u001b[38;5;34m32\u001b[0m)          │     \u001b[38;5;34m27,648\u001b[0m │\n",
       "├─────────────────────────────────┼───────────────────────────┼────────────┤\n",
       "│    └ batch_normalization_2      │ (\u001b[38;5;45mNone\u001b[0m, \u001b[38;5;34m7\u001b[0m, \u001b[38;5;34m7\u001b[0m, \u001b[38;5;34m32\u001b[0m)          │         \u001b[38;5;34m96\u001b[0m │\n",
       "│ (\u001b[38;5;33mBatchNormalization\u001b[0m)            │                           │            │\n",
       "├─────────────────────────────────┼───────────────────────────┼────────────┤\n",
       "│    └ activation_2 (\u001b[38;5;33mActivation\u001b[0m)  │ (\u001b[38;5;45mNone\u001b[0m, \u001b[38;5;34m7\u001b[0m, \u001b[38;5;34m7\u001b[0m, \u001b[38;5;34m32\u001b[0m)          │          \u001b[38;5;34m0\u001b[0m │\n",
       "├─────────────────────────────────┼───────────────────────────┼────────────┤\n",
       "│ flatten (\u001b[38;5;33mFlatten\u001b[0m)               │ (\u001b[38;5;45mNone\u001b[0m, \u001b[38;5;34m1568\u001b[0m)              │          \u001b[38;5;34m0\u001b[0m │\n",
       "├─────────────────────────────────┼───────────────────────────┼────────────┤\n",
       "│ dense (\u001b[38;5;33mDense\u001b[0m)                   │ (\u001b[38;5;45mNone\u001b[0m, \u001b[38;5;34m200\u001b[0m)               │    \u001b[38;5;34m313,600\u001b[0m │\n",
       "├─────────────────────────────────┼───────────────────────────┼────────────┤\n",
       "│ dropout (\u001b[38;5;33mDropout\u001b[0m)               │ (\u001b[38;5;45mNone\u001b[0m, \u001b[38;5;34m200\u001b[0m)               │          \u001b[38;5;34m0\u001b[0m │\n",
       "├─────────────────────────────────┼───────────────────────────┼────────────┤\n",
       "│ dense_1 (\u001b[38;5;33mDense\u001b[0m)                 │ (\u001b[38;5;45mNone\u001b[0m, \u001b[38;5;34m10\u001b[0m)                │      \u001b[38;5;34m2,010\u001b[0m │\n",
       "└─────────────────────────────────┴───────────────────────────┴────────────┘\n"
      ]
     },
     "metadata": {},
     "output_type": "display_data"
    },
    {
     "data": {
      "text/html": [
       "<pre style=\"white-space:pre;overflow-x:auto;line-height:normal;font-family:Menlo,'DejaVu Sans Mono',consolas,'Courier New',monospace\"><span style=\"font-weight: bold\"> Total params: </span><span style=\"color: #00af00; text-decoration-color: #00af00\">353,938</span> (1.35 MB)\n",
       "</pre>\n"
      ],
      "text/plain": [
       "\u001b[1m Total params: \u001b[0m\u001b[38;5;34m353,938\u001b[0m (1.35 MB)\n"
      ]
     },
     "metadata": {},
     "output_type": "display_data"
    },
    {
     "data": {
      "text/html": [
       "<pre style=\"white-space:pre;overflow-x:auto;line-height:normal;font-family:Menlo,'DejaVu Sans Mono',consolas,'Courier New',monospace\"><span style=\"font-weight: bold\"> Trainable params: </span><span style=\"color: #00af00; text-decoration-color: #00af00\">353,802</span> (1.35 MB)\n",
       "</pre>\n"
      ],
      "text/plain": [
       "\u001b[1m Trainable params: \u001b[0m\u001b[38;5;34m353,802\u001b[0m (1.35 MB)\n"
      ]
     },
     "metadata": {},
     "output_type": "display_data"
    },
    {
     "data": {
      "text/html": [
       "<pre style=\"white-space:pre;overflow-x:auto;line-height:normal;font-family:Menlo,'DejaVu Sans Mono',consolas,'Courier New',monospace\"><span style=\"font-weight: bold\"> Non-trainable params: </span><span style=\"color: #00af00; text-decoration-color: #00af00\">136</span> (544.00 B)\n",
       "</pre>\n"
      ],
      "text/plain": [
       "\u001b[1m Non-trainable params: \u001b[0m\u001b[38;5;34m136\u001b[0m (544.00 B)\n"
      ]
     },
     "metadata": {},
     "output_type": "display_data"
    }
   ],
   "source": [
    "# Keras \"sequential\" model building style\n",
    "def make_backbone():\n",
    "  return keras.Sequential([\n",
    "    keras.layers.Rescaling(1./255.), # input images are in the range [0, 255]\n",
    "\n",
    "    keras.layers.Conv2D(filters=12, kernel_size=3, padding='same', use_bias=False),\n",
    "    keras.layers.BatchNormalization(scale=False, center=True),\n",
    "    keras.layers.Activation('relu'),\n",
    "\n",
    "    keras.layers.Conv2D(filters=24, kernel_size=6, padding='same', use_bias=False, strides=2),\n",
    "    keras.layers.BatchNormalization(scale=False, center=True),\n",
    "    keras.layers.Activation('relu'),\n",
    "\n",
    "    keras.layers.Conv2D(filters=32, kernel_size=6, padding='same', use_bias=False, strides=2, name='large_k'),\n",
    "    keras.layers.BatchNormalization(scale=False, center=True),\n",
    "    keras.layers.Activation('relu'),\n",
    "  ], name=\"backbone\")\n",
    "\n",
    "# Keras \"functional\" model building style: adding a classification head\n",
    "input = keras.Input(shape=[28, 28, 1])\n",
    "y = make_backbone()(input)\n",
    "y = keras.layers.Flatten()(y)\n",
    "y = keras.layers.Dense(units=200, use_bias=False, activation=\"relu\")(y)\n",
    "y = keras.layers.Dropout(0.4)(y)\n",
    "y = keras.layers.Dense(units=10, activation='softmax')(y)\n",
    "model = keras.Model(inputs=input, outputs=y)\n",
    "\n",
    "model.summary(expand_nested=True)"
   ]
  },
  {
   "cell_type": "code",
   "execution_count": 8,
   "metadata": {
    "executionInfo": {
     "elapsed": 2,
     "status": "ok",
     "timestamp": 1706114695166,
     "user": {
      "displayName": "",
      "userId": ""
     },
     "user_tz": -60
    },
    "id": "BuD4vgWlTDZM"
   },
   "outputs": [],
   "source": [
    "# Define the optimizer, loss, metrics and learning rate schedule\n",
    "lr = keras.optimizers.schedules.ExponentialDecay(0.01, STEPS_PER_EPOCH, 0.6)\n",
    "optimizer = keras.optimizers.Adam(lr)\n",
    "model.compile(optimizer=optimizer,\n",
    "              loss=keras.losses.SparseCategoricalCrossentropy(),\n",
    "              metrics=[keras.metrics.SparseCategoricalAccuracy()])"
   ]
  },
  {
   "cell_type": "markdown",
   "metadata": {
    "id": "Ue7w40BmNy5N"
   },
   "source": [
    "# Default Keras trainer (optional)\n",
    "Keras offers a default trainier. You can also use a custom training loop (see further down)"
   ]
  },
  {
   "cell_type": "code",
   "execution_count": 9,
   "metadata": {
    "colab": {
     "base_uri": "https://localhost:8080/"
    },
    "executionInfo": {
     "elapsed": 15888,
     "status": "ok",
     "timestamp": 1706114711052,
     "user": {
      "displayName": "",
      "userId": ""
     },
     "user_tz": -60
    },
    "id": "SpI1ZMIZT7ci",
    "outputId": "78e2620b-810b-485a-e7bf-907013889d46"
   },
   "outputs": [
    {
     "name": "stdout",
     "output_type": "stream",
     "text": [
      "Epoch 1/5\n",
      "\u001b[1m312/312\u001b[0m \u001b[32m━━━━━━━━━━━━━━━━━━━━\u001b[0m\u001b[37m\u001b[0m \u001b[1m11s\u001b[0m 17ms/step - loss: 0.9698 - sparse_categorical_accuracy: 0.8040 - val_loss: 0.2725 - val_sparse_categorical_accuracy: 0.9209\n",
      "Epoch 2/5\n",
      "\u001b[1m312/312\u001b[0m \u001b[32m━━━━━━━━━━━━━━━━━━━━\u001b[0m\u001b[37m\u001b[0m \u001b[1m1s\u001b[0m 3ms/step - loss: 0.0945 - sparse_categorical_accuracy: 0.9730 - val_loss: 0.0813 - val_sparse_categorical_accuracy: 0.9760\n",
      "Epoch 3/5\n",
      "\u001b[1m 52/312\u001b[0m \u001b[32m━━━\u001b[0m\u001b[37m━━━━━━━━━━━━━━━━━\u001b[0m \u001b[1m0s\u001b[0m 3ms/step - loss: 0.0605 - sparse_categorical_accuracy: 0.9826"
     ]
    },
    {
     "name": "stderr",
     "output_type": "stream",
     "text": [
      "/home/auv/.local/lib/python3.10/site-packages/keras/src/backend/jax/trainer.py:535: UserWarning: Your input ran out of data; interrupting epoch. Make sure that your dataset or generator can generate at least `steps_per_epoch * epochs` batches. You may need to use the `.repeat()` function when building your dataset.\n",
      "  for step, data in epoch_iterator.enumerate_epoch():\n"
     ]
    },
    {
     "name": "stdout",
     "output_type": "stream",
     "text": [
      "\u001b[1m312/312\u001b[0m \u001b[32m━━━━━━━━━━━━━━━━━━━━\u001b[0m\u001b[37m\u001b[0m \u001b[1m1s\u001b[0m 3ms/step - loss: 0.0558 - sparse_categorical_accuracy: 0.9839 - val_loss: 0.0325 - val_sparse_categorical_accuracy: 0.9888\n",
      "Epoch 4/5\n",
      "\u001b[1m312/312\u001b[0m \u001b[32m━━━━━━━━━━━━━━━━━━━━\u001b[0m\u001b[37m\u001b[0m \u001b[1m1s\u001b[0m 3ms/step - loss: 0.0403 - sparse_categorical_accuracy: 0.9882 - val_loss: 0.0380 - val_sparse_categorical_accuracy: 0.9887\n",
      "Epoch 5/5\n",
      "\u001b[1m312/312\u001b[0m \u001b[32m━━━━━━━━━━━━━━━━━━━━\u001b[0m\u001b[37m\u001b[0m \u001b[1m1s\u001b[0m 3ms/step - loss: 0.0286 - sparse_categorical_accuracy: 0.9917 - val_loss: 0.0217 - val_sparse_categorical_accuracy: 0.9927\n"
     ]
    }
   ],
   "source": [
    "EPOCHS=5\n",
    "history = model.fit(train_data,\n",
    "                    steps_per_epoch=STEPS_PER_EPOCH, epochs=EPOCHS,\n",
    "                    validation_data=eval_data, validation_steps=1)"
   ]
  },
  {
   "cell_type": "markdown",
   "metadata": {
    "id": "7Cl_7w9KsIog"
   },
   "source": [
    "# Custom Keras layer\n",
    "Multi-backend compatible.<BR/>\n",
    "Keras provides several multi-backend abstractions:\n",
    "* `Layer.add_weight` for creating trainable variables\n",
    "* `keras.operations` for multi-backend math ops\n",
    "\n",
    "All standard Keras elements are also multi-backend: `keras.initializers`, `keras.layers`, `keras.optimizers` etc"
   ]
  },
  {
   "cell_type": "code",
   "execution_count": 10,
   "metadata": {
    "executionInfo": {
     "elapsed": 19,
     "status": "ok",
     "timestamp": 1706114711052,
     "user": {
      "displayName": "",
      "userId": ""
     },
     "user_tz": -60
    },
    "id": "wDWcsuw_sIog"
   },
   "outputs": [],
   "source": [
    "class MyDense(keras.Layer):\n",
    "    def __init__(self, units, name=None):\n",
    "        super().__init__(name=name)\n",
    "        self.units = units\n",
    "\n",
    "    # Weights can be instantiates either in __init__ or in build.\n",
    "    # In build, the input shape of the layer is available automatically.\n",
    "    def build(self, input_shape):\n",
    "        input_dim = input_shape[-1]\n",
    "        w_shape = (input_dim, self.units)\n",
    "        self.w = self.add_weight(name=\"kernel\", shape=w_shape, initializer=\"GlorotUniform\")\n",
    "\n",
    "        b_shape = (self.units,)\n",
    "        self.b = self.add_weight(name=\"bias\", shape=b_shape, initializer=\"Zeros\")\n",
    "\n",
    "    def call(self, inputs):\n",
    "        return keras.ops.numpy.matmul(inputs, self.w) + self.b"
   ]
  },
  {
   "cell_type": "code",
   "execution_count": 11,
   "metadata": {
    "executionInfo": {
     "elapsed": 318,
     "status": "ok",
     "timestamp": 1706114711353,
     "user": {
      "displayName": "",
      "userId": ""
     },
     "user_tz": -60
    },
    "id": "PVDftx27sIog"
   },
   "outputs": [],
   "source": [
    "# model with new classification head using MyDense\n",
    "input = keras.Input(shape=[28, 28, 1])\n",
    "y = make_backbone()(input)\n",
    "y = keras.layers.Flatten()(y)\n",
    "y = MyDense(200)(y)\n",
    "y = keras.layers.Activation('relu')(y)\n",
    "y = keras.layers.Dropout(0.4)(y)\n",
    "y = MyDense(10)(y)\n",
    "y = keras.layers.Activation('softmax')(y)\n",
    "my_model = keras.Model(inputs=input, outputs=y)"
   ]
  },
  {
   "cell_type": "code",
   "execution_count": 12,
   "metadata": {
    "colab": {
     "base_uri": "https://localhost:8080/"
    },
    "executionInfo": {
     "elapsed": 10246,
     "status": "ok",
     "timestamp": 1706114721598,
     "user": {
      "displayName": "",
      "userId": ""
     },
     "user_tz": -60
    },
    "id": "MI64y6kSsIog",
    "outputId": "7fdea003-359f-4b13-dc0c-1de45305ade2"
   },
   "outputs": [
    {
     "name": "stdout",
     "output_type": "stream",
     "text": [
      "Epoch 1/5\n",
      "\u001b[1m312/312\u001b[0m \u001b[32m━━━━━━━━━━━━━━━━━━━━\u001b[0m\u001b[37m\u001b[0m \u001b[1m11s\u001b[0m 16ms/step - loss: 1.0293 - sparse_categorical_accuracy: 0.8116 - val_loss: 0.0946 - val_sparse_categorical_accuracy: 0.9714\n",
      "Epoch 2/5\n",
      "\u001b[1m312/312\u001b[0m \u001b[32m━━━━━━━━━━━━━━━━━━━━\u001b[0m\u001b[37m\u001b[0m \u001b[1m1s\u001b[0m 3ms/step - loss: 0.0953 - sparse_categorical_accuracy: 0.9721 - val_loss: 0.0866 - val_sparse_categorical_accuracy: 0.9746\n",
      "Epoch 3/5\n",
      "\u001b[1m312/312\u001b[0m \u001b[32m━━━━━━━━━━━━━━━━━━━━\u001b[0m\u001b[37m\u001b[0m \u001b[1m1s\u001b[0m 3ms/step - loss: 0.0601 - sparse_categorical_accuracy: 0.9831 - val_loss: 0.0346 - val_sparse_categorical_accuracy: 0.9889\n",
      "Epoch 4/5\n",
      "\u001b[1m312/312\u001b[0m \u001b[32m━━━━━━━━━━━━━━━━━━━━\u001b[0m\u001b[37m\u001b[0m \u001b[1m1s\u001b[0m 3ms/step - loss: 0.0447 - sparse_categorical_accuracy: 0.9887 - val_loss: 0.0415 - val_sparse_categorical_accuracy: 0.9888\n",
      "Epoch 5/5\n",
      "\u001b[1m312/312\u001b[0m \u001b[32m━━━━━━━━━━━━━━━━━━━━\u001b[0m\u001b[37m\u001b[0m \u001b[1m1s\u001b[0m 3ms/step - loss: 0.0322 - sparse_categorical_accuracy: 0.9903 - val_loss: 0.0282 - val_sparse_categorical_accuracy: 0.9908\n"
     ]
    }
   ],
   "source": [
    "# train it\n",
    "optimizer = keras.optimizers.Adam(lr)\n",
    "my_model.compile(optimizer=optimizer,\n",
    "                 loss=keras.losses.SparseCategoricalCrossentropy(),\n",
    "                 metrics=[keras.metrics.SparseCategoricalAccuracy()])\n",
    "EPOCHS=5\n",
    "history = my_model.fit(train_data,\n",
    "                       steps_per_epoch=STEPS_PER_EPOCH, epochs=EPOCHS,\n",
    "                       validation_data=eval_data, validation_steps=1)"
   ]
  },
  {
   "cell_type": "markdown",
   "metadata": {
    "id": "-igmc8SCO2rP"
   },
   "source": [
    "# Custom training loop\n",
    "Written in Keras + JAX\n"
   ]
  },
  {
   "cell_type": "code",
   "execution_count": 13,
   "metadata": {
    "executionInfo": {
     "elapsed": 448,
     "status": "ok",
     "timestamp": 1706114722042,
     "user": {
      "displayName": "",
      "userId": ""
     },
     "user_tz": -60
    },
    "id": "6vZQaN2xKEfs"
   },
   "outputs": [],
   "source": [
    "# This cell is all Keras\n",
    "\n",
    "def make_model():\n",
    "    input = keras.Input(shape=[28, 28, 1])\n",
    "    y = make_backbone()(input)\n",
    "    y = keras.layers.Flatten()(y)\n",
    "    y = keras.layers.Dense(200, activation=\"relu\")(y)\n",
    "    y = keras.layers.Dropout(0.4)(y)\n",
    "    y = keras.layers.Dense(10, activation='softmax')(y)\n",
    "    model = keras.Model(inputs=input, outputs=y)\n",
    "    return model\n",
    "\n",
    "# instantiate the model again\n",
    "model = make_model()\n",
    "\n",
    "# optimizer\n",
    "optimizer = keras.optimizers.Adam(lr)\n",
    "\n",
    "# initialize all state with .build()\n",
    "(one_batch, one_batch_labels) = next(iter(train_data))\n",
    "model.build(one_batch)\n",
    "optimizer.build(model.trainable_variables)\n",
    "\n",
    "# collect state in a handy named tuple\n",
    "TrainingState = collections.namedtuple('TrainingState',\n",
    " ['trainable_variables', 'non_trainable_variables', 'optimizer_variables'])\n",
    "\n",
    "train_state = TrainingState(trainable_variables = model.trainable_variables,\n",
    "                            non_trainable_variables = model.non_trainable_variables,\n",
    "                            optimizer_variables = optimizer.variables)"
   ]
  },
  {
   "cell_type": "markdown",
   "metadata": {
    "id": "s5egW_zHReuI"
   },
   "source": [
    "This cell uses JAX. Keras provides two pure functions for JAX:\n",
    "* `model.stateless_call`\n",
    "* `optimizer.stateless_apply`\n",
    "\n",
    "These functions also work on other backends."
   ]
  },
  {
   "cell_type": "code",
   "execution_count": 14,
   "metadata": {
    "executionInfo": {
     "elapsed": 3,
     "status": "ok",
     "timestamp": 1706114722042,
     "user": {
      "displayName": "",
      "userId": ""
     },
     "user_tz": -60
    },
    "id": "3ErFIhnbuGPD"
   },
   "outputs": [],
   "source": [
    "# This cell is all JAX,\n",
    "# using a Keras loss as well as Keras stateless functions\n",
    "# model.stateless_call and optimizer.stateless_apply\n",
    "\n",
    "# define loss\n",
    "loss = keras.losses.SparseCategoricalCrossentropy()\n",
    "\n",
    "# This is the loss function that will be differentiated.\n",
    "# Keras provides a pure functional forward pass: model.stateless_call\n",
    "def compute_loss(trainable_variables, non_trainable_variables, x, y):\n",
    "    y_pred, updated_non_trainable_variables = model.stateless_call(\n",
    "        trainable_variables, non_trainable_variables, x)\n",
    "    loss_value = loss(y, y_pred)\n",
    "    return loss_value, updated_non_trainable_variables\n",
    "\n",
    "# function to compute gradients\n",
    "compute_gradients = jax.value_and_grad(compute_loss, has_aux=True)\n",
    "\n",
    "# Trainig step\n",
    "# Keras provides a pure functional optimizer.stateless_apply\n",
    "@jax.jit\n",
    "def train_step(train_state, x, y):\n",
    "    (loss_value, non_trainable_variables), grads = compute_gradients(\n",
    "        train_state.trainable_variables, train_state.non_trainable_variables,\n",
    "        x, y)\n",
    "\n",
    "    trainable_variables, optimizer_variables = optimizer.stateless_apply(\n",
    "        train_state.optimizer_variables, grads, train_state.trainable_variables)\n",
    "\n",
    "    return loss_value, TrainingState(trainable_variables,\n",
    "                                     non_trainable_variables,\n",
    "                                     optimizer_variables)"
   ]
  },
  {
   "cell_type": "code",
   "execution_count": 15,
   "metadata": {
    "colab": {
     "base_uri": "https://localhost:8080/"
    },
    "executionInfo": {
     "elapsed": 5714,
     "status": "ok",
     "timestamp": 1706114727753,
     "user": {
      "displayName": "",
      "userId": ""
     },
     "user_tz": -60
    },
    "id": "rdxcVw8jsIoh",
    "outputId": "fbcbeaa4-0d60-4032-d185-59430d6fb82a"
   },
   "outputs": [
    {
     "name": "stderr",
     "output_type": "stream",
     "text": [
      "100%|█████████████████████████████████████████| 312/312 [00:03<00:00, 80.00it/s]\n"
     ]
    },
    {
     "name": "stdout",
     "output_type": "stream",
     "text": [
      "Epoch 0 loss: 0.007071685\n"
     ]
    },
    {
     "name": "stderr",
     "output_type": "stream",
     "text": [
      "100%|████████████████████████████████████████| 312/312 [00:00<00:00, 789.35it/s]\n"
     ]
    },
    {
     "name": "stdout",
     "output_type": "stream",
     "text": [
      "Epoch 1 loss: 0.025994292\n"
     ]
    },
    {
     "name": "stderr",
     "output_type": "stream",
     "text": [
      "100%|████████████████████████████████████████| 312/312 [00:00<00:00, 805.98it/s]\n"
     ]
    },
    {
     "name": "stdout",
     "output_type": "stream",
     "text": [
      "Epoch 2 loss: 0.0018344952\n"
     ]
    },
    {
     "name": "stderr",
     "output_type": "stream",
     "text": [
      "100%|████████████████████████████████████████| 312/312 [00:00<00:00, 811.68it/s]\n"
     ]
    },
    {
     "name": "stdout",
     "output_type": "stream",
     "text": [
      "Epoch 3 loss: 0.0017096938\n"
     ]
    },
    {
     "name": "stderr",
     "output_type": "stream",
     "text": [
      "100%|████████████████████████████████████████| 312/312 [00:00<00:00, 815.06it/s]"
     ]
    },
    {
     "name": "stdout",
     "output_type": "stream",
     "text": [
      "Epoch 4 loss: 0.0014083621\n"
     ]
    },
    {
     "name": "stderr",
     "output_type": "stream",
     "text": [
      "\n"
     ]
    }
   ],
   "source": [
    "# Custom training loop\n",
    "data_iter = iter(train_data)\n",
    "for epoch in range(EPOCHS):\n",
    "    for i in tqdm(range(STEPS_PER_EPOCH)):\n",
    "        x, y = next(data_iter)\n",
    "        loss_value, train_state = train_step(train_state, x.numpy(), y.numpy())\n",
    "    print(\"Epoch\", epoch, \"loss:\", loss_value)"
   ]
  },
  {
   "cell_type": "code",
   "execution_count": null,
   "metadata": {
    "colab": {
     "base_uri": "https://localhost:8080/"
    },
    "executionInfo": {
     "elapsed": 778,
     "status": "ok",
     "timestamp": 1706114728528,
     "user": {
      "displayName": "",
      "userId": ""
     },
     "user_tz": -60
    },
    "id": "pRsnstCs2oDK",
    "outputId": "cfda721e-fdea-4fee-9e0d-7af1d8eb4a91"
   },
   "outputs": [],
   "source": [
    "# Post-processing model state update\n",
    "update = lambda variable, value: variable.assign(value)\n",
    "\n",
    "jax.tree_map(update, model.trainable_variables, train_state.trainable_variables)\n",
    "jax.tree_map(update, model.non_trainable_variables, train_state.non_trainable_variables)\n",
    "jax.tree_map(update, optimizer.variables, train_state.optimizer_variables)\n",
    "\n",
    "# check that the model has the new state by running an eval\n",
    "# known issue: the optimizer should not be required here\n",
    "model.compile(optimizer=optimizer,\n",
    "              loss=keras.losses.SparseCategoricalCrossentropy(),\n",
    "              metrics=[keras.metrics.SparseCategoricalAccuracy()])\n",
    "loss, accuracy = model.evaluate(eval_data)\n",
    "print(\"The model achieved an evaluation accuracy of:\", accuracy)"
   ]
  },
  {
   "cell_type": "markdown",
   "metadata": {
    "id": "3eT179D4sIoh"
   },
   "source": [
    "# JAX-native distribution with a Keras model\n",
    "For now, you have to write a custom training loop for this\n",
    "\n",
    "__Note: The features required by jax.sharding are not supported by the Colab TPU runtime at this time, but are available on Cloud TPU VMs and Kaggle TPU VMs. Try Kaggle first.__"
   ]
  },
  {
   "cell_type": "code",
   "execution_count": 17,
   "metadata": {
    "executionInfo": {
     "elapsed": 330,
     "status": "ok",
     "timestamp": 1706114766587,
     "user": {
      "displayName": "",
      "userId": ""
     },
     "user_tz": -60
    },
    "id": "Dfr_mJzzsIoh"
   },
   "outputs": [],
   "source": [
    "if len(jax.local_devices()) < 8:\n",
    "  raise Exception(\"This part requires 8 devices to run\")"
   ]
  },
  {
   "cell_type": "code",
   "execution_count": 18,
   "metadata": {
    "executionInfo": {
     "elapsed": 3,
     "status": "ok",
     "timestamp": 1706114768120,
     "user": {
      "displayName": "",
      "userId": ""
     },
     "user_tz": -60
    },
    "id": "3mf5bptlsIoh"
   },
   "outputs": [],
   "source": [
    "# This cell is all Keras\n",
    "\n",
    "# instantiate the model again\n",
    "model = make_model()\n",
    "\n",
    "# optimizer\n",
    "optimizer = keras.optimizers.Adam(lr)\n",
    "\n",
    "# initialize all state with .build()\n",
    "(one_batch, one_batch_labels) = next(iter(train_data))\n",
    "model.build(one_batch)\n",
    "optimizer.build(model.trainable_variables)"
   ]
  },
  {
   "cell_type": "markdown",
   "metadata": {
    "id": "C2ZVcqpzsIoi"
   },
   "source": [
    "## Distribution settings\n",
    "* Sharding the data on the batch axis\n",
    "* Replicating all model variables\n",
    "\n",
    "__Note__: this implements standard \"data parallel\" distributed training\n",
    "\n",
    "* Just for show, sharding the largest convolutional kernel along the \"channels\" axis 4-ways and replicating 2-ways\n",
    "\n",
    "__Note__: this does not reflect a best practice but is intended to show that you can split a very large kernel across multiple devices if you have to"
   ]
  },
  {
   "cell_type": "code",
   "execution_count": 19,
   "metadata": {
    "executionInfo": {
     "elapsed": 332,
     "status": "ok",
     "timestamp": 1706114771466,
     "user": {
      "displayName": "",
      "userId": ""
     },
     "user_tz": -60
    },
    "id": "kc-_W8tIsIoi"
   },
   "outputs": [],
   "source": [
    "# this cell is all JAX\n",
    "\n",
    "from jax.experimental import mesh_utils\n",
    "from jax.sharding import Mesh\n",
    "from jax.sharding import NamedSharding\n",
    "from jax.sharding import PartitionSpec as P\n",
    "\n",
    "devices = mesh_utils.create_device_mesh((8,))\n",
    "\n",
    "# data will be split along the batch axis\n",
    "data_mesh = Mesh(devices, axis_names=('batch',)) # naming axes of the mesh\n",
    "data_sharding = NamedSharding(data_mesh, P('batch',)) # naming axes of the sharded partition\n",
    "\n",
    "# all variables will be replicated on all devices\n",
    "var_mesh = Mesh(devices, axis_names=('_'))\n",
    "var_replication = NamedSharding(var_mesh, P()) # in NamedSharding, axes that are not mentioned are replicated (all axes here)\n",
    "\n",
    "# for the demo, we wil split the largest kernel 4-ways (and replicate 2-ways since we have 8 devices)\n",
    "large_kernel_mesh = Mesh(devices.reshape((-1,4)), axis_names=(None, 'out_chan')) # naming axes of the mesh\n",
    "large_kernel_sharding = NamedSharding(large_kernel_mesh, P(None, None, None, 'out_chan')) # naming axes of the sharded partition"
   ]
  },
  {
   "cell_type": "code",
   "execution_count": 20,
   "metadata": {
    "executionInfo": {
     "elapsed": 316,
     "status": "ok",
     "timestamp": 1706114775207,
     "user": {
      "displayName": "",
      "userId": ""
     },
     "user_tz": -60
    },
    "id": "-aJ8MhG-sIoi"
   },
   "outputs": [],
   "source": [
    "# Use Keras APIs to find the variable of a specific layer (we will be sharding this one in a special way)\n",
    "# In a Conv2D or Dense layer, the variables are 'kernel' and 'bias'\n",
    "special_layer_var = model.get_layer(\"backbone\").get_layer(\"large_k\").kernel"
   ]
  },
  {
   "cell_type": "code",
   "execution_count": 21,
   "metadata": {
    "colab": {
     "base_uri": "https://localhost:8080/",
     "height": 404
    },
    "executionInfo": {
     "elapsed": 888,
     "status": "ok",
     "timestamp": 1706114778294,
     "user": {
      "displayName": "",
      "userId": ""
     },
     "user_tz": -60
    },
    "id": "NEjQRGqCsIoi",
    "outputId": "f3c71dd0-ba17-4ce5-8167-a7090f2cff48"
   },
   "outputs": [
    {
     "name": "stdout",
     "output_type": "stream",
     "text": [
      "Sharding of all other model variables\n"
     ]
    },
    {
     "data": {
      "text/html": [
       "<pre style=\"white-space:pre;overflow-x:auto;line-height:normal;font-family:Menlo,'DejaVu Sans Mono',consolas,'Courier New',monospace\"><span style=\"color: #ffffff; text-decoration-color: #ffffff; background-color: #393b79\">                                </span>\n",
       "<span style=\"color: #ffffff; text-decoration-color: #ffffff; background-color: #393b79\">                                </span>\n",
       "<span style=\"color: #ffffff; text-decoration-color: #ffffff; background-color: #393b79\">                                </span>\n",
       "<span style=\"color: #ffffff; text-decoration-color: #ffffff; background-color: #393b79\">                                </span>\n",
       "<span style=\"color: #ffffff; text-decoration-color: #ffffff; background-color: #393b79\">                                </span>\n",
       "<span style=\"color: #ffffff; text-decoration-color: #ffffff; background-color: #393b79\">      TPU 0,1,2,3,4,5,6,7       </span>\n",
       "<span style=\"color: #ffffff; text-decoration-color: #ffffff; background-color: #393b79\">                                </span>\n",
       "<span style=\"color: #ffffff; text-decoration-color: #ffffff; background-color: #393b79\">                                </span>\n",
       "<span style=\"color: #ffffff; text-decoration-color: #ffffff; background-color: #393b79\">                                </span>\n",
       "<span style=\"color: #ffffff; text-decoration-color: #ffffff; background-color: #393b79\">                                </span>\n",
       "<span style=\"color: #ffffff; text-decoration-color: #ffffff; background-color: #393b79\">                                </span>\n",
       "</pre>\n"
      ],
      "text/plain": [
       "\u001b[38;2;255;255;255;48;2;57;59;121m                                \u001b[0m\n",
       "\u001b[38;2;255;255;255;48;2;57;59;121m                                \u001b[0m\n",
       "\u001b[38;2;255;255;255;48;2;57;59;121m                                \u001b[0m\n",
       "\u001b[38;2;255;255;255;48;2;57;59;121m                                \u001b[0m\n",
       "\u001b[38;2;255;255;255;48;2;57;59;121m                                \u001b[0m\n",
       "\u001b[38;2;255;255;255;48;2;57;59;121m      \u001b[0m\u001b[38;2;255;255;255;48;2;57;59;121mTPU 0,1,2,3,4,5,6,7\u001b[0m\u001b[38;2;255;255;255;48;2;57;59;121m       \u001b[0m\n",
       "\u001b[38;2;255;255;255;48;2;57;59;121m                                \u001b[0m\n",
       "\u001b[38;2;255;255;255;48;2;57;59;121m                                \u001b[0m\n",
       "\u001b[38;2;255;255;255;48;2;57;59;121m                                \u001b[0m\n",
       "\u001b[38;2;255;255;255;48;2;57;59;121m                                \u001b[0m\n",
       "\u001b[38;2;255;255;255;48;2;57;59;121m                                \u001b[0m\n"
      ]
     },
     "metadata": {},
     "output_type": "display_data"
    },
    {
     "name": "stdout",
     "output_type": "stream",
     "text": [
      "Sharding of convolutional kernel (6, 6, 24, 32)\n"
     ]
    },
    {
     "data": {
      "text/html": [
       "<pre style=\"white-space:pre;overflow-x:auto;line-height:normal;font-family:Menlo,'DejaVu Sans Mono',consolas,'Courier New',monospace\"><span style=\"color: #ffffff; text-decoration-color: #ffffff; background-color: #393b79\">         </span><span style=\"color: #ffffff; text-decoration-color: #ffffff; background-color: #de9ed6\">         </span><span style=\"color: #ffffff; text-decoration-color: #ffffff; background-color: #ad494a\">         </span><span style=\"color: #000000; text-decoration-color: #000000; background-color: #b5cf6b\">         </span>\n",
       "<span style=\"color: #ffffff; text-decoration-color: #ffffff; background-color: #393b79\">         </span><span style=\"color: #ffffff; text-decoration-color: #ffffff; background-color: #de9ed6\">         </span><span style=\"color: #ffffff; text-decoration-color: #ffffff; background-color: #ad494a\">         </span><span style=\"color: #000000; text-decoration-color: #000000; background-color: #b5cf6b\">         </span>\n",
       "<span style=\"color: #ffffff; text-decoration-color: #ffffff; background-color: #393b79\">         </span><span style=\"color: #ffffff; text-decoration-color: #ffffff; background-color: #de9ed6\">         </span><span style=\"color: #ffffff; text-decoration-color: #ffffff; background-color: #ad494a\">         </span><span style=\"color: #000000; text-decoration-color: #000000; background-color: #b5cf6b\">         </span>\n",
       "<span style=\"color: #ffffff; text-decoration-color: #ffffff; background-color: #393b79\">         </span><span style=\"color: #ffffff; text-decoration-color: #ffffff; background-color: #de9ed6\">         </span><span style=\"color: #ffffff; text-decoration-color: #ffffff; background-color: #ad494a\">         </span><span style=\"color: #000000; text-decoration-color: #000000; background-color: #b5cf6b\">         </span>\n",
       "<span style=\"color: #ffffff; text-decoration-color: #ffffff; background-color: #393b79\">         </span><span style=\"color: #ffffff; text-decoration-color: #ffffff; background-color: #de9ed6\">         </span><span style=\"color: #ffffff; text-decoration-color: #ffffff; background-color: #ad494a\">         </span><span style=\"color: #000000; text-decoration-color: #000000; background-color: #b5cf6b\">         </span>\n",
       "<span style=\"color: #ffffff; text-decoration-color: #ffffff; background-color: #393b79\"> TPU 0,6 </span><span style=\"color: #ffffff; text-decoration-color: #ffffff; background-color: #de9ed6\"> TPU 1,7 </span><span style=\"color: #ffffff; text-decoration-color: #ffffff; background-color: #ad494a\"> TPU 2,4 </span><span style=\"color: #000000; text-decoration-color: #000000; background-color: #b5cf6b\"> TPU 3,5 </span>\n",
       "<span style=\"color: #ffffff; text-decoration-color: #ffffff; background-color: #393b79\">         </span><span style=\"color: #ffffff; text-decoration-color: #ffffff; background-color: #de9ed6\">         </span><span style=\"color: #ffffff; text-decoration-color: #ffffff; background-color: #ad494a\">         </span><span style=\"color: #000000; text-decoration-color: #000000; background-color: #b5cf6b\">         </span>\n",
       "<span style=\"color: #ffffff; text-decoration-color: #ffffff; background-color: #393b79\">         </span><span style=\"color: #ffffff; text-decoration-color: #ffffff; background-color: #de9ed6\">         </span><span style=\"color: #ffffff; text-decoration-color: #ffffff; background-color: #ad494a\">         </span><span style=\"color: #000000; text-decoration-color: #000000; background-color: #b5cf6b\">         </span>\n",
       "<span style=\"color: #ffffff; text-decoration-color: #ffffff; background-color: #393b79\">         </span><span style=\"color: #ffffff; text-decoration-color: #ffffff; background-color: #de9ed6\">         </span><span style=\"color: #ffffff; text-decoration-color: #ffffff; background-color: #ad494a\">         </span><span style=\"color: #000000; text-decoration-color: #000000; background-color: #b5cf6b\">         </span>\n",
       "<span style=\"color: #ffffff; text-decoration-color: #ffffff; background-color: #393b79\">         </span><span style=\"color: #ffffff; text-decoration-color: #ffffff; background-color: #de9ed6\">         </span><span style=\"color: #ffffff; text-decoration-color: #ffffff; background-color: #ad494a\">         </span><span style=\"color: #000000; text-decoration-color: #000000; background-color: #b5cf6b\">         </span>\n",
       "<span style=\"color: #ffffff; text-decoration-color: #ffffff; background-color: #393b79\">         </span><span style=\"color: #ffffff; text-decoration-color: #ffffff; background-color: #de9ed6\">         </span><span style=\"color: #ffffff; text-decoration-color: #ffffff; background-color: #ad494a\">         </span><span style=\"color: #000000; text-decoration-color: #000000; background-color: #b5cf6b\">         </span>\n",
       "</pre>\n"
      ],
      "text/plain": [
       "\u001b[38;2;255;255;255;48;2;57;59;121m         \u001b[0m\u001b[38;2;255;255;255;48;2;222;158;214m         \u001b[0m\u001b[38;2;255;255;255;48;2;173;73;74m         \u001b[0m\u001b[38;2;0;0;0;48;2;181;207;107m         \u001b[0m\n",
       "\u001b[38;2;255;255;255;48;2;57;59;121m         \u001b[0m\u001b[38;2;255;255;255;48;2;222;158;214m         \u001b[0m\u001b[38;2;255;255;255;48;2;173;73;74m         \u001b[0m\u001b[38;2;0;0;0;48;2;181;207;107m         \u001b[0m\n",
       "\u001b[38;2;255;255;255;48;2;57;59;121m         \u001b[0m\u001b[38;2;255;255;255;48;2;222;158;214m         \u001b[0m\u001b[38;2;255;255;255;48;2;173;73;74m         \u001b[0m\u001b[38;2;0;0;0;48;2;181;207;107m         \u001b[0m\n",
       "\u001b[38;2;255;255;255;48;2;57;59;121m         \u001b[0m\u001b[38;2;255;255;255;48;2;222;158;214m         \u001b[0m\u001b[38;2;255;255;255;48;2;173;73;74m         \u001b[0m\u001b[38;2;0;0;0;48;2;181;207;107m         \u001b[0m\n",
       "\u001b[38;2;255;255;255;48;2;57;59;121m         \u001b[0m\u001b[38;2;255;255;255;48;2;222;158;214m         \u001b[0m\u001b[38;2;255;255;255;48;2;173;73;74m         \u001b[0m\u001b[38;2;0;0;0;48;2;181;207;107m         \u001b[0m\n",
       "\u001b[38;2;255;255;255;48;2;57;59;121m \u001b[0m\u001b[38;2;255;255;255;48;2;57;59;121mTPU 0,6\u001b[0m\u001b[38;2;255;255;255;48;2;57;59;121m \u001b[0m\u001b[38;2;255;255;255;48;2;222;158;214m \u001b[0m\u001b[38;2;255;255;255;48;2;222;158;214mTPU 1,7\u001b[0m\u001b[38;2;255;255;255;48;2;222;158;214m \u001b[0m\u001b[38;2;255;255;255;48;2;173;73;74m \u001b[0m\u001b[38;2;255;255;255;48;2;173;73;74mTPU 2,4\u001b[0m\u001b[38;2;255;255;255;48;2;173;73;74m \u001b[0m\u001b[38;2;0;0;0;48;2;181;207;107m \u001b[0m\u001b[38;2;0;0;0;48;2;181;207;107mTPU 3,5\u001b[0m\u001b[38;2;0;0;0;48;2;181;207;107m \u001b[0m\n",
       "\u001b[38;2;255;255;255;48;2;57;59;121m         \u001b[0m\u001b[38;2;255;255;255;48;2;222;158;214m         \u001b[0m\u001b[38;2;255;255;255;48;2;173;73;74m         \u001b[0m\u001b[38;2;0;0;0;48;2;181;207;107m         \u001b[0m\n",
       "\u001b[38;2;255;255;255;48;2;57;59;121m         \u001b[0m\u001b[38;2;255;255;255;48;2;222;158;214m         \u001b[0m\u001b[38;2;255;255;255;48;2;173;73;74m         \u001b[0m\u001b[38;2;0;0;0;48;2;181;207;107m         \u001b[0m\n",
       "\u001b[38;2;255;255;255;48;2;57;59;121m         \u001b[0m\u001b[38;2;255;255;255;48;2;222;158;214m         \u001b[0m\u001b[38;2;255;255;255;48;2;173;73;74m         \u001b[0m\u001b[38;2;0;0;0;48;2;181;207;107m         \u001b[0m\n",
       "\u001b[38;2;255;255;255;48;2;57;59;121m         \u001b[0m\u001b[38;2;255;255;255;48;2;222;158;214m         \u001b[0m\u001b[38;2;255;255;255;48;2;173;73;74m         \u001b[0m\u001b[38;2;0;0;0;48;2;181;207;107m         \u001b[0m\n",
       "\u001b[38;2;255;255;255;48;2;57;59;121m         \u001b[0m\u001b[38;2;255;255;255;48;2;222;158;214m         \u001b[0m\u001b[38;2;255;255;255;48;2;173;73;74m         \u001b[0m\u001b[38;2;0;0;0;48;2;181;207;107m         \u001b[0m\n"
      ]
     },
     "metadata": {},
     "output_type": "display_data"
    }
   ],
   "source": [
    "# this cell is all JAX,\n",
    "# accessing variables in Keras lists model.trainable_variables, model.non_trainable_variables and optimizer.variables\n",
    "\n",
    "# Apply the distribution settings to the model variables\n",
    "non_trainable_variables = jax.device_put(model.non_trainable_variables, var_replication)\n",
    "optimizer_variables = jax.device_put(optimizer.variables, var_replication)\n",
    "# trainable_variables = jax.device_put(model.trainable_variables, var_replication)\n",
    "\n",
    "# for the demo, we split the largest kernel 4-ways instead of replicating it\n",
    "print_once=True\n",
    "trainable_variables = model.trainable_variables\n",
    "for i,v in enumerate(trainable_variables):\n",
    "    if v is special_layer_var:\n",
    "\n",
    "        # Apply distribution settings: sharding\n",
    "        sharded_v = jax.device_put(v, large_kernel_sharding)\n",
    "        trainable_variables[i] = sharded_v\n",
    "\n",
    "        print(\"Sharding of convolutional\", v.name, v.shape)\n",
    "        jax.debug.visualize_array_sharding(jnp.reshape(sharded_v, [-1, v.shape[-1]]))\n",
    "    else:\n",
    "        # Apply distribution settings: replication\n",
    "        replicated_v = jax.device_put(v, var_replication)\n",
    "        trainable_variables[i] = replicated_v\n",
    "\n",
    "        if (print_once):\n",
    "            print_once=False\n",
    "            print(\"Sharding of all other model variables\")\n",
    "            jax.debug.visualize_array_sharding(jnp.reshape(replicated_v, [-1, v.shape[-1]]))\n",
    "\n",
    "# collect state in a handy named tuple\n",
    "device_train_state = TrainingState(trainable_variables=trainable_variables,\n",
    "                                   non_trainable_variables=non_trainable_variables,\n",
    "                                   optimizer_variables=optimizer_variables)"
   ]
  },
  {
   "cell_type": "code",
   "execution_count": 22,
   "metadata": {
    "colab": {
     "base_uri": "https://localhost:8080/",
     "height": 244
    },
    "id": "euOVBULT1F_2",
    "outputId": "735a6719-3f37-43b3-93c1-b3511e83d695"
   },
   "outputs": [
    {
     "name": "stdout",
     "output_type": "stream",
     "text": [
      "Data sharding\n"
     ]
    },
    {
     "data": {
      "text/html": [
       "<pre style=\"white-space:pre;overflow-x:auto;line-height:normal;font-family:Menlo,'DejaVu Sans Mono',consolas,'Courier New',monospace\"><span style=\"color: #ffffff; text-decoration-color: #ffffff; background-color: #393b79\">                                     TPU 0                                      </span>\n",
       "<span style=\"color: #ffffff; text-decoration-color: #ffffff; background-color: #393b79\">                                                                                </span>\n",
       "<span style=\"color: #ffffff; text-decoration-color: #ffffff; background-color: #d6616b\">                                     TPU 1                                      </span>\n",
       "<span style=\"color: #ffffff; text-decoration-color: #ffffff; background-color: #d6616b\">                                                                                </span>\n",
       "<span style=\"color: #ffffff; text-decoration-color: #ffffff; background-color: #8ca252\">                                     TPU 2                                      </span>\n",
       "<span style=\"color: #ffffff; text-decoration-color: #ffffff; background-color: #8ca252\">                                                                                </span>\n",
       "<span style=\"color: #ffffff; text-decoration-color: #ffffff; background-color: #de9ed6\">                                     TPU 3                                      </span>\n",
       "<span style=\"color: #ffffff; text-decoration-color: #ffffff; background-color: #de9ed6\">                                                                                </span>\n",
       "<span style=\"color: #000000; text-decoration-color: #000000; background-color: #e7cb94\">                                     TPU 6                                      </span>\n",
       "<span style=\"color: #000000; text-decoration-color: #000000; background-color: #e7cb94\">                                                                                </span>\n",
       "<span style=\"color: #ffffff; text-decoration-color: #ffffff; background-color: #6b6ecf\">                                     TPU 7                                      </span>\n",
       "<span style=\"color: #ffffff; text-decoration-color: #ffffff; background-color: #6b6ecf\">                                                                                </span>\n",
       "<span style=\"color: #ffffff; text-decoration-color: #ffffff; background-color: #a55194\">                                     TPU 4                                      </span>\n",
       "<span style=\"color: #ffffff; text-decoration-color: #ffffff; background-color: #a55194\">                                                                                </span>\n",
       "<span style=\"color: #ffffff; text-decoration-color: #ffffff; background-color: #8c6d31\">                                     TPU 5                                      </span>\n",
       "<span style=\"color: #ffffff; text-decoration-color: #ffffff; background-color: #8c6d31\">                                                                                </span>\n",
       "</pre>\n"
      ],
      "text/plain": [
       "\u001b[38;2;255;255;255;48;2;57;59;121m                                     \u001b[0m\u001b[38;2;255;255;255;48;2;57;59;121mTPU 0\u001b[0m\u001b[38;2;255;255;255;48;2;57;59;121m                                      \u001b[0m\n",
       "\u001b[38;2;255;255;255;48;2;57;59;121m                                                                                \u001b[0m\n",
       "\u001b[38;2;255;255;255;48;2;214;97;107m                                     \u001b[0m\u001b[38;2;255;255;255;48;2;214;97;107mTPU 1\u001b[0m\u001b[38;2;255;255;255;48;2;214;97;107m                                      \u001b[0m\n",
       "\u001b[38;2;255;255;255;48;2;214;97;107m                                                                                \u001b[0m\n",
       "\u001b[38;2;255;255;255;48;2;140;162;82m                                     \u001b[0m\u001b[38;2;255;255;255;48;2;140;162;82mTPU 2\u001b[0m\u001b[38;2;255;255;255;48;2;140;162;82m                                      \u001b[0m\n",
       "\u001b[38;2;255;255;255;48;2;140;162;82m                                                                                \u001b[0m\n",
       "\u001b[38;2;255;255;255;48;2;222;158;214m                                     \u001b[0m\u001b[38;2;255;255;255;48;2;222;158;214mTPU 3\u001b[0m\u001b[38;2;255;255;255;48;2;222;158;214m                                      \u001b[0m\n",
       "\u001b[38;2;255;255;255;48;2;222;158;214m                                                                                \u001b[0m\n",
       "\u001b[38;2;0;0;0;48;2;231;203;148m                                     \u001b[0m\u001b[38;2;0;0;0;48;2;231;203;148mTPU 6\u001b[0m\u001b[38;2;0;0;0;48;2;231;203;148m                                      \u001b[0m\n",
       "\u001b[38;2;0;0;0;48;2;231;203;148m                                                                                \u001b[0m\n",
       "\u001b[38;2;255;255;255;48;2;107;110;207m                                     \u001b[0m\u001b[38;2;255;255;255;48;2;107;110;207mTPU 7\u001b[0m\u001b[38;2;255;255;255;48;2;107;110;207m                                      \u001b[0m\n",
       "\u001b[38;2;255;255;255;48;2;107;110;207m                                                                                \u001b[0m\n",
       "\u001b[38;2;255;255;255;48;2;165;81;148m                                     \u001b[0m\u001b[38;2;255;255;255;48;2;165;81;148mTPU 4\u001b[0m\u001b[38;2;255;255;255;48;2;165;81;148m                                      \u001b[0m\n",
       "\u001b[38;2;255;255;255;48;2;165;81;148m                                                                                \u001b[0m\n",
       "\u001b[38;2;255;255;255;48;2;140;109;49m                                     \u001b[0m\u001b[38;2;255;255;255;48;2;140;109;49mTPU 5\u001b[0m\u001b[38;2;255;255;255;48;2;140;109;49m                                      \u001b[0m\n",
       "\u001b[38;2;255;255;255;48;2;140;109;49m                                                                                \u001b[0m\n"
      ]
     },
     "metadata": {},
     "output_type": "display_data"
    },
    {
     "name": "stderr",
     "output_type": "stream",
     "text": [
      "100%|█████████████████████████████████████████| 312/312 [00:09<00:00, 33.16it/s]\n"
     ]
    },
    {
     "name": "stdout",
     "output_type": "stream",
     "text": [
      "Epoch 0 loss: 0.011462945\n"
     ]
    },
    {
     "name": "stderr",
     "output_type": "stream",
     "text": [
      "100%|████████████████████████████████████████| 312/312 [00:02<00:00, 129.64it/s]\n"
     ]
    },
    {
     "name": "stdout",
     "output_type": "stream",
     "text": [
      "Epoch 1 loss: 0.019896783\n"
     ]
    },
    {
     "name": "stderr",
     "output_type": "stream",
     "text": [
      "100%|████████████████████████████████████████| 312/312 [00:02<00:00, 128.28it/s]\n"
     ]
    },
    {
     "name": "stdout",
     "output_type": "stream",
     "text": [
      "Epoch 2 loss: 0.0040018708\n"
     ]
    },
    {
     "name": "stderr",
     "output_type": "stream",
     "text": [
      "100%|████████████████████████████████████████| 312/312 [00:02<00:00, 129.54it/s]\n"
     ]
    },
    {
     "name": "stdout",
     "output_type": "stream",
     "text": [
      "Epoch 3 loss: 0.00522309\n"
     ]
    },
    {
     "name": "stderr",
     "output_type": "stream",
     "text": [
      "100%|████████████████████████████████████████| 312/312 [00:02<00:00, 130.06it/s]"
     ]
    },
    {
     "name": "stdout",
     "output_type": "stream",
     "text": [
      "Epoch 4 loss: 0.00052411645\n"
     ]
    },
    {
     "name": "stderr",
     "output_type": "stream",
     "text": [
      "\n"
     ]
    }
   ],
   "source": [
    "# Custom training loop\n",
    "\n",
    "# display data sharding\n",
    "x,y = next(iter(train_data))\n",
    "sharded_x = jax.device_put(x.numpy(), data_sharding)\n",
    "print(\"Data sharding\")\n",
    "jax.debug.visualize_array_sharding(jnp.reshape(sharded_x, [-1, 28*28]))\n",
    "\n",
    "# training loop\n",
    "data_iter = iter(train_data)\n",
    "for epoch in range(EPOCHS):\n",
    "    for i in tqdm(range(STEPS_PER_EPOCH)):\n",
    "        x, y = next(data_iter)\n",
    "        sharded_x = jax.device_put(x.numpy(), data_sharding)\n",
    "        loss_value, device_train_state = train_step(device_train_state, sharded_x, y.numpy())\n",
    "    print(\"Epoch\", epoch, \"loss:\", loss_value)"
   ]
  },
  {
   "cell_type": "markdown",
   "metadata": {
    "id": "fZmlhgwWsIoi"
   },
   "source": [
    "The output of the model is still sharded. Sharding follows the data."
   ]
  },
  {
   "cell_type": "code",
   "execution_count": 23,
   "metadata": {
    "id": "VT1fGrsysIoi"
   },
   "outputs": [
    {
     "name": "stdout",
     "output_type": "stream",
     "text": [
      "Model output sharding\n"
     ]
    },
    {
     "data": {
      "text/html": [
       "<pre style=\"white-space:pre;overflow-x:auto;line-height:normal;font-family:Menlo,'DejaVu Sans Mono',consolas,'Courier New',monospace\"><span style=\"color: #ffffff; text-decoration-color: #ffffff; background-color: #393b79\">  TPU 0  </span>\n",
       "<span style=\"color: #ffffff; text-decoration-color: #ffffff; background-color: #393b79\">         </span>\n",
       "<span style=\"color: #ffffff; text-decoration-color: #ffffff; background-color: #d6616b\">  TPU 1  </span>\n",
       "<span style=\"color: #ffffff; text-decoration-color: #ffffff; background-color: #d6616b\">         </span>\n",
       "<span style=\"color: #ffffff; text-decoration-color: #ffffff; background-color: #8ca252\">  TPU 2  </span>\n",
       "<span style=\"color: #ffffff; text-decoration-color: #ffffff; background-color: #8ca252\">         </span>\n",
       "<span style=\"color: #ffffff; text-decoration-color: #ffffff; background-color: #de9ed6\">  TPU 3  </span>\n",
       "<span style=\"color: #ffffff; text-decoration-color: #ffffff; background-color: #de9ed6\">         </span>\n",
       "<span style=\"color: #000000; text-decoration-color: #000000; background-color: #e7cb94\">  TPU 6  </span>\n",
       "<span style=\"color: #000000; text-decoration-color: #000000; background-color: #e7cb94\">         </span>\n",
       "<span style=\"color: #ffffff; text-decoration-color: #ffffff; background-color: #6b6ecf\">  TPU 7  </span>\n",
       "<span style=\"color: #ffffff; text-decoration-color: #ffffff; background-color: #6b6ecf\">         </span>\n",
       "<span style=\"color: #ffffff; text-decoration-color: #ffffff; background-color: #a55194\">  TPU 4  </span>\n",
       "<span style=\"color: #ffffff; text-decoration-color: #ffffff; background-color: #a55194\">         </span>\n",
       "<span style=\"color: #ffffff; text-decoration-color: #ffffff; background-color: #8c6d31\">  TPU 5  </span>\n",
       "<span style=\"color: #ffffff; text-decoration-color: #ffffff; background-color: #8c6d31\">         </span>\n",
       "</pre>\n"
      ],
      "text/plain": [
       "\u001b[38;2;255;255;255;48;2;57;59;121m  \u001b[0m\u001b[38;2;255;255;255;48;2;57;59;121mTPU 0\u001b[0m\u001b[38;2;255;255;255;48;2;57;59;121m  \u001b[0m\n",
       "\u001b[38;2;255;255;255;48;2;57;59;121m         \u001b[0m\n",
       "\u001b[38;2;255;255;255;48;2;214;97;107m  \u001b[0m\u001b[38;2;255;255;255;48;2;214;97;107mTPU 1\u001b[0m\u001b[38;2;255;255;255;48;2;214;97;107m  \u001b[0m\n",
       "\u001b[38;2;255;255;255;48;2;214;97;107m         \u001b[0m\n",
       "\u001b[38;2;255;255;255;48;2;140;162;82m  \u001b[0m\u001b[38;2;255;255;255;48;2;140;162;82mTPU 2\u001b[0m\u001b[38;2;255;255;255;48;2;140;162;82m  \u001b[0m\n",
       "\u001b[38;2;255;255;255;48;2;140;162;82m         \u001b[0m\n",
       "\u001b[38;2;255;255;255;48;2;222;158;214m  \u001b[0m\u001b[38;2;255;255;255;48;2;222;158;214mTPU 3\u001b[0m\u001b[38;2;255;255;255;48;2;222;158;214m  \u001b[0m\n",
       "\u001b[38;2;255;255;255;48;2;222;158;214m         \u001b[0m\n",
       "\u001b[38;2;0;0;0;48;2;231;203;148m  \u001b[0m\u001b[38;2;0;0;0;48;2;231;203;148mTPU 6\u001b[0m\u001b[38;2;0;0;0;48;2;231;203;148m  \u001b[0m\n",
       "\u001b[38;2;0;0;0;48;2;231;203;148m         \u001b[0m\n",
       "\u001b[38;2;255;255;255;48;2;107;110;207m  \u001b[0m\u001b[38;2;255;255;255;48;2;107;110;207mTPU 7\u001b[0m\u001b[38;2;255;255;255;48;2;107;110;207m  \u001b[0m\n",
       "\u001b[38;2;255;255;255;48;2;107;110;207m         \u001b[0m\n",
       "\u001b[38;2;255;255;255;48;2;165;81;148m  \u001b[0m\u001b[38;2;255;255;255;48;2;165;81;148mTPU 4\u001b[0m\u001b[38;2;255;255;255;48;2;165;81;148m  \u001b[0m\n",
       "\u001b[38;2;255;255;255;48;2;165;81;148m         \u001b[0m\n",
       "\u001b[38;2;255;255;255;48;2;140;109;49m  \u001b[0m\u001b[38;2;255;255;255;48;2;140;109;49mTPU 5\u001b[0m\u001b[38;2;255;255;255;48;2;140;109;49m  \u001b[0m\n",
       "\u001b[38;2;255;255;255;48;2;140;109;49m         \u001b[0m\n"
      ]
     },
     "metadata": {},
     "output_type": "display_data"
    }
   ],
   "source": [
    "data, labels = next(iter(eval_data))\n",
    "sharded_data = jax.device_put(data.numpy(), data_sharding)\n",
    "\n",
    "@jax.jit\n",
    "def predict(data):\n",
    "    predictions, updated_non_trainable_variables = model.stateless_call(\n",
    "        device_train_state.trainable_variables,\n",
    "        device_train_state.non_trainable_variables, data)\n",
    "    return predictions\n",
    "\n",
    "predictions = predict(sharded_data)\n",
    "print(\"Model output sharding\")\n",
    "jax.debug.visualize_array_sharding(predictions)"
   ]
  },
  {
   "cell_type": "code",
   "execution_count": 37,
   "metadata": {},
   "outputs": [
    {
     "data": {
      "text/plain": [
       "(Array([7, 2, 1, ..., 4, 5, 6], dtype=int32),\n",
       " <tf.Tensor: shape=(10000,), dtype=uint8, numpy=array([7, 2, 1, ..., 4, 5, 6], dtype=uint8)>)"
      ]
     },
     "execution_count": 37,
     "metadata": {},
     "output_type": "execute_result"
    }
   ],
   "source": [
    "predictions.argmax(axis=-1), labels"
   ]
  },
  {
   "cell_type": "code",
   "execution_count": 38,
   "metadata": {
    "id": "UCVkGIfmsIoi"
   },
   "outputs": [
    {
     "name": "stdout",
     "output_type": "stream",
     "text": [
      "The model achieved an evaluation accuracy of: 0.9906999468803406\n"
     ]
    }
   ],
   "source": [
    "# Post-processing model state update\n",
    "update = lambda variable, value: variable.assign(value)\n",
    "\n",
    "jax.tree_map(update, model.trainable_variables, device_train_state.trainable_variables)\n",
    "jax.tree_map(update, model.non_trainable_variables, device_train_state.non_trainable_variables)\n",
    "jax.tree_map(update, optimizer.variables, device_train_state.optimizer_variables)\n",
    "\n",
    "# check that the model has the new state by running an eval\n",
    "# known issue: https://github.com/keras-team/keras/issues/18681\n",
    "model.compile(loss=keras.losses.SparseCategoricalCrossentropy(),\n",
    "              metrics=[keras.metrics.SparseCategoricalAccuracy()])\n",
    "loss, accuracy = model.evaluate(eval_data)\n",
    "print(\"The model achieved an evaluation accuracy of:\", accuracy)"
   ]
  },
  {
   "cell_type": "markdown",
   "metadata": {
    "id": "Ul-2G0gRRFFL"
   },
   "source": [
    "# And coming soon: KerasCV and KerasNLP pre-trained models\n",
    "We are currently adjusting them to support Keras multi-backend. Stay tuned.\n"
   ]
  },
  {
   "cell_type": "code",
   "execution_count": null,
   "metadata": {
    "id": "FcZx4CKMOVpW"
   },
   "outputs": [],
   "source": []
  }
 ],
 "metadata": {
  "accelerator": "GPU",
  "colab": {
   "collapsed_sections": [
    "3eT179D4sIoh"
   ],
   "gpuType": "T4",
   "provenance": [],
   "toc_visible": true
  },
  "kernelspec": {
   "display_name": "Python 3 (ipykernel)",
   "language": "python",
   "name": "python3"
  },
  "language_info": {
   "codemirror_mode": {
    "name": "ipython",
    "version": 3
   },
   "file_extension": ".py",
   "mimetype": "text/x-python",
   "name": "python",
   "nbconvert_exporter": "python",
   "pygments_lexer": "ipython3",
   "version": "3.10.6"
  }
 },
 "nbformat": 4,
 "nbformat_minor": 4
}
